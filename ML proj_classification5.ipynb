{
 "cells": [
  {
   "cell_type": "markdown",
   "metadata": {},
   "source": [
    "#                                   Classification problem with indian startup funding"
   ]
  },
  {
   "cell_type": "markdown",
   "metadata": {},
   "source": [
    "#### About Notebook: \n",
    "\n",
    "This notebook is to predict if the amount of funding will be greater than 1 Million dollars or not based on \n",
    "month, year, no of investers, location, inverstment type and industry vertical.\n",
    "\n",
    "Possible questions which could be answered are:\n",
    "\n",
    "- How does the funding ecosystem change with time? <br>\n",
    "- Do cities play a major role in funding? <br>\n",
    "- How does funding change with InvestmentType? <br> "
   ]
  },
  {
   "cell_type": "markdown",
   "metadata": {},
   "source": [
    "#### Importing librarys "
   ]
  },
  {
   "cell_type": "code",
   "execution_count": 1,
   "metadata": {
    "_cell_guid": "bfdf62c8-713f-455b-af42-b0ac8ead0b60",
    "_uuid": "738b5a341ad373d74cf171a6650ced3a126e0065"
   },
   "outputs": [],
   "source": [
    "import numpy as np # linear algebra\n",
    "import pandas as pd # data processing, CSV file I/O (e.g. pd.read_csv)\n",
    "import seaborn as sns\n",
    "import matplotlib.pyplot as plt"
   ]
  },
  {
   "cell_type": "markdown",
   "metadata": {},
   "source": [
    "#### About Dataset\n",
    "This dataset has funding information of the Indian startups from January 2015 to August 2017. It includes columns with the date funded, the city the startup is based out of, the names of the funders, and the amount invested (in USD)."
   ]
  },
  {
   "cell_type": "code",
   "execution_count": 2,
   "metadata": {
    "_cell_guid": "d5fb4b52-dbbf-4cb0-ac22-088b8278cdcf",
    "_uuid": "b5e52d80d98bcf9bfecce1fa1d8b17d3302f0704"
   },
   "outputs": [],
   "source": [
    "data = pd.read_csv(\"startup_funding.csv\")"
   ]
  },
  {
   "cell_type": "code",
   "execution_count": null,
   "metadata": {},
   "outputs": [],
   "source": []
  },
  {
   "cell_type": "markdown",
   "metadata": {},
   "source": [
    "#### Dataset sample"
   ]
  },
  {
   "cell_type": "code",
   "execution_count": 4,
   "metadata": {
    "_cell_guid": "96f79923-4d23-4556-9028-b65bfd014092",
    "_uuid": "2a1004a33027f4f883fd765bf6232cf482356742"
   },
   "outputs": [
    {
     "data": {
      "text/html": [
       "<div>\n",
       "<style scoped>\n",
       "    .dataframe tbody tr th:only-of-type {\n",
       "        vertical-align: middle;\n",
       "    }\n",
       "\n",
       "    .dataframe tbody tr th {\n",
       "        vertical-align: top;\n",
       "    }\n",
       "\n",
       "    .dataframe thead th {\n",
       "        text-align: right;\n",
       "    }\n",
       "</style>\n",
       "<table border=\"1\" class=\"dataframe\">\n",
       "  <thead>\n",
       "    <tr style=\"text-align: right;\">\n",
       "      <th></th>\n",
       "      <th>SNo</th>\n",
       "      <th>Date</th>\n",
       "      <th>StartupName</th>\n",
       "      <th>IndustryVertical</th>\n",
       "      <th>SubVertical</th>\n",
       "      <th>CityLocation</th>\n",
       "      <th>InvestorsName</th>\n",
       "      <th>InvestmentType</th>\n",
       "      <th>AmountInUSD</th>\n",
       "      <th>Remarks</th>\n",
       "    </tr>\n",
       "  </thead>\n",
       "  <tbody>\n",
       "    <tr>\n",
       "      <th>0</th>\n",
       "      <td>0</td>\n",
       "      <td>01/08/2017</td>\n",
       "      <td>TouchKin</td>\n",
       "      <td>Technology</td>\n",
       "      <td>Predictive Care Platform</td>\n",
       "      <td>Bangalore</td>\n",
       "      <td>Kae Capital</td>\n",
       "      <td>Private Equity</td>\n",
       "      <td>1,300,000</td>\n",
       "      <td>NaN</td>\n",
       "    </tr>\n",
       "    <tr>\n",
       "      <th>1</th>\n",
       "      <td>1</td>\n",
       "      <td>02/08/2017</td>\n",
       "      <td>Ethinos</td>\n",
       "      <td>Technology</td>\n",
       "      <td>Digital Marketing Agency</td>\n",
       "      <td>Mumbai</td>\n",
       "      <td>Triton Investment Advisors</td>\n",
       "      <td>Private Equity</td>\n",
       "      <td>NaN</td>\n",
       "      <td>NaN</td>\n",
       "    </tr>\n",
       "    <tr>\n",
       "      <th>2</th>\n",
       "      <td>2</td>\n",
       "      <td>02/08/2017</td>\n",
       "      <td>Leverage Edu</td>\n",
       "      <td>Consumer Internet</td>\n",
       "      <td>Online platform for Higher Education Services</td>\n",
       "      <td>New Delhi</td>\n",
       "      <td>Kashyap Deorah, Anand Sankeshwar, Deepak Jain,...</td>\n",
       "      <td>Seed Funding</td>\n",
       "      <td>NaN</td>\n",
       "      <td>NaN</td>\n",
       "    </tr>\n",
       "    <tr>\n",
       "      <th>3</th>\n",
       "      <td>3</td>\n",
       "      <td>02/08/2017</td>\n",
       "      <td>Zepo</td>\n",
       "      <td>Consumer Internet</td>\n",
       "      <td>DIY Ecommerce platform</td>\n",
       "      <td>Mumbai</td>\n",
       "      <td>Kunal Shah, LetsVenture, Anupam Mittal, Hetal ...</td>\n",
       "      <td>Seed Funding</td>\n",
       "      <td>500,000</td>\n",
       "      <td>NaN</td>\n",
       "    </tr>\n",
       "  </tbody>\n",
       "</table>\n",
       "</div>"
      ],
      "text/plain": [
       "   SNo        Date   StartupName   IndustryVertical  \\\n",
       "0    0  01/08/2017      TouchKin         Technology   \n",
       "1    1  02/08/2017       Ethinos         Technology   \n",
       "2    2  02/08/2017  Leverage Edu  Consumer Internet   \n",
       "3    3  02/08/2017          Zepo  Consumer Internet   \n",
       "\n",
       "                                     SubVertical CityLocation  \\\n",
       "0                       Predictive Care Platform    Bangalore   \n",
       "1                       Digital Marketing Agency       Mumbai   \n",
       "2  Online platform for Higher Education Services    New Delhi   \n",
       "3                         DIY Ecommerce platform       Mumbai   \n",
       "\n",
       "                                       InvestorsName  InvestmentType  \\\n",
       "0                                        Kae Capital  Private Equity   \n",
       "1                         Triton Investment Advisors  Private Equity   \n",
       "2  Kashyap Deorah, Anand Sankeshwar, Deepak Jain,...    Seed Funding   \n",
       "3  Kunal Shah, LetsVenture, Anupam Mittal, Hetal ...    Seed Funding   \n",
       "\n",
       "  AmountInUSD Remarks  \n",
       "0   1,300,000     NaN  \n",
       "1         NaN     NaN  \n",
       "2         NaN     NaN  \n",
       "3     500,000     NaN  "
      ]
     },
     "execution_count": 4,
     "metadata": {},
     "output_type": "execute_result"
    }
   ],
   "source": [
    "# Displaying first four rows of the dataframe\n",
    "data.head(4)"
   ]
  },
  {
   "cell_type": "code",
   "execution_count": 5,
   "metadata": {
    "_uuid": "dc2c432b6562c0200d10e941d38c9d45ba82f5d9"
   },
   "outputs": [
    {
     "data": {
      "text/html": [
       "<div>\n",
       "<style scoped>\n",
       "    .dataframe tbody tr th:only-of-type {\n",
       "        vertical-align: middle;\n",
       "    }\n",
       "\n",
       "    .dataframe tbody tr th {\n",
       "        vertical-align: top;\n",
       "    }\n",
       "\n",
       "    .dataframe thead th {\n",
       "        text-align: right;\n",
       "    }\n",
       "</style>\n",
       "<table border=\"1\" class=\"dataframe\">\n",
       "  <thead>\n",
       "    <tr style=\"text-align: right;\">\n",
       "      <th></th>\n",
       "      <th>SNo</th>\n",
       "      <th>Date</th>\n",
       "      <th>StartupName</th>\n",
       "      <th>IndustryVertical</th>\n",
       "      <th>SubVertical</th>\n",
       "      <th>CityLocation</th>\n",
       "      <th>InvestorsName</th>\n",
       "      <th>InvestmentType</th>\n",
       "      <th>AmountInUSD</th>\n",
       "      <th>Remarks</th>\n",
       "    </tr>\n",
       "  </thead>\n",
       "  <tbody>\n",
       "    <tr>\n",
       "      <th>2368</th>\n",
       "      <td>2368</td>\n",
       "      <td>29/01/2015</td>\n",
       "      <td>Graphene</td>\n",
       "      <td>NaN</td>\n",
       "      <td>NaN</td>\n",
       "      <td>NaN</td>\n",
       "      <td>KARSEMVEN Fund</td>\n",
       "      <td>Private Equity</td>\n",
       "      <td>825,000</td>\n",
       "      <td>Govt backed VC Fund</td>\n",
       "    </tr>\n",
       "    <tr>\n",
       "      <th>2369</th>\n",
       "      <td>2369</td>\n",
       "      <td>30/01/2015</td>\n",
       "      <td>Mad Street Den</td>\n",
       "      <td>NaN</td>\n",
       "      <td>NaN</td>\n",
       "      <td>NaN</td>\n",
       "      <td>Exfinity Fund, GrowX Ventures.</td>\n",
       "      <td>Private Equity</td>\n",
       "      <td>1,500,000</td>\n",
       "      <td>NaN</td>\n",
       "    </tr>\n",
       "    <tr>\n",
       "      <th>2370</th>\n",
       "      <td>2370</td>\n",
       "      <td>30/01/2015</td>\n",
       "      <td>Simplotel</td>\n",
       "      <td>NaN</td>\n",
       "      <td>NaN</td>\n",
       "      <td>NaN</td>\n",
       "      <td>MakeMyTrip</td>\n",
       "      <td>Private Equity</td>\n",
       "      <td>NaN</td>\n",
       "      <td>Strategic Funding, Minority stake</td>\n",
       "    </tr>\n",
       "    <tr>\n",
       "      <th>2371</th>\n",
       "      <td>2371</td>\n",
       "      <td>31/01/2015</td>\n",
       "      <td>couponmachine.in</td>\n",
       "      <td>NaN</td>\n",
       "      <td>NaN</td>\n",
       "      <td>NaN</td>\n",
       "      <td>UK based Group of Angel Investors</td>\n",
       "      <td>Seed Funding</td>\n",
       "      <td>140,000</td>\n",
       "      <td>NaN</td>\n",
       "    </tr>\n",
       "  </tbody>\n",
       "</table>\n",
       "</div>"
      ],
      "text/plain": [
       "       SNo        Date       StartupName IndustryVertical SubVertical  \\\n",
       "2368  2368  29/01/2015          Graphene              NaN         NaN   \n",
       "2369  2369  30/01/2015    Mad Street Den              NaN         NaN   \n",
       "2370  2370  30/01/2015         Simplotel              NaN         NaN   \n",
       "2371  2371  31/01/2015  couponmachine.in              NaN         NaN   \n",
       "\n",
       "     CityLocation                      InvestorsName  InvestmentType  \\\n",
       "2368          NaN                     KARSEMVEN Fund  Private Equity   \n",
       "2369          NaN     Exfinity Fund, GrowX Ventures.  Private Equity   \n",
       "2370          NaN                         MakeMyTrip  Private Equity   \n",
       "2371          NaN  UK based Group of Angel Investors    Seed Funding   \n",
       "\n",
       "     AmountInUSD                            Remarks  \n",
       "2368     825,000                Govt backed VC Fund  \n",
       "2369   1,500,000                                NaN  \n",
       "2370         NaN  Strategic Funding, Minority stake  \n",
       "2371     140,000                                NaN  "
      ]
     },
     "execution_count": 5,
     "metadata": {},
     "output_type": "execute_result"
    }
   ],
   "source": [
    "# Displaying last four rows of the dataframe\n",
    "data.tail(4) "
   ]
  },
  {
   "cell_type": "code",
   "execution_count": 6,
   "metadata": {},
   "outputs": [
    {
     "name": "stdout",
     "output_type": "stream",
     "text": [
      "<class 'pandas.core.frame.DataFrame'>\n",
      "RangeIndex: 2372 entries, 0 to 2371\n",
      "Data columns (total 10 columns):\n",
      "SNo                 2372 non-null int64\n",
      "Date                2372 non-null object\n",
      "StartupName         2372 non-null object\n",
      "IndustryVertical    2201 non-null object\n",
      "SubVertical         1436 non-null object\n",
      "CityLocation        2193 non-null object\n",
      "InvestorsName       2364 non-null object\n",
      "InvestmentType      2371 non-null object\n",
      "AmountInUSD         1525 non-null object\n",
      "Remarks             419 non-null object\n",
      "dtypes: int64(1), object(9)\n",
      "memory usage: 185.4+ KB\n"
     ]
    }
   ],
   "source": [
    "data.info(null_counts=True)"
   ]
  },
  {
   "cell_type": "markdown",
   "metadata": {},
   "source": [
    "### Data clean up for Analysis (filling missing values)"
   ]
  },
  {
   "cell_type": "markdown",
   "metadata": {},
   "source": [
    "#### Identifying the missing vales in data"
   ]
  },
  {
   "cell_type": "code",
   "execution_count": 7,
   "metadata": {},
   "outputs": [],
   "source": [
    "missing_values_count = data.isnull().sum()"
   ]
  },
  {
   "cell_type": "code",
   "execution_count": 8,
   "metadata": {},
   "outputs": [
    {
     "data": {
      "text/plain": [
       "SNo                    0\n",
       "Date                   0\n",
       "StartupName            0\n",
       "IndustryVertical     171\n",
       "SubVertical          936\n",
       "CityLocation         179\n",
       "InvestorsName          8\n",
       "InvestmentType         1\n",
       "AmountInUSD          847\n",
       "Remarks             1953\n",
       "dtype: int64"
      ]
     },
     "execution_count": 8,
     "metadata": {},
     "output_type": "execute_result"
    }
   ],
   "source": [
    "missing_values_count[0:10]"
   ]
  },
  {
   "cell_type": "code",
   "execution_count": 9,
   "metadata": {
    "scrolled": true
   },
   "outputs": [
    {
     "data": {
      "text/plain": [
       "<matplotlib.axes._subplots.AxesSubplot at 0x10861fda0>"
      ]
     },
     "execution_count": 9,
     "metadata": {},
     "output_type": "execute_result"
    },
    {
     "data": {
      "image/png": "[encoded data removed]",
      "text/plain": [
       "<Figure size 720x360 with 1 Axes>"
      ]
     },
     "metadata": {},
     "output_type": "display_data"
    }
   ],
   "source": [
    "plt.figure(figsize=(10,5))\n",
    "sns.heatmap(data.isnull(),cmap='viridis',yticklabels=False,cbar=False)"
   ]
  },
  {
   "cell_type": "markdown",
   "metadata": {},
   "source": [
    "Creating a copy to update the dataset "
   ]
  },
  {
   "cell_type": "code",
   "execution_count": 10,
   "metadata": {},
   "outputs": [],
   "source": [
    "newdata=data.copy()"
   ]
  },
  {
   "cell_type": "markdown",
   "metadata": {},
   "source": [
    "#### Formating and filling in missing values in AmountInUSD"
   ]
  },
  {
   "cell_type": "markdown",
   "metadata": {},
   "source": [
    "AmountInUSD is not in integer, it has ','. So we will remove ',' and format into integer using regular expressions"
   ]
  },
  {
   "cell_type": "code",
   "execution_count": 11,
   "metadata": {},
   "outputs": [],
   "source": [
    "import re;\n",
    "def replace_comma_with_emptySpace(x):\n",
    "    if re.search(',',x): \n",
    "        return (x.replace(',',''))\n",
    "    return x\n",
    "newdata['AmountInUSD']=newdata[newdata['AmountInUSD'].notnull()]['AmountInUSD'].apply(replace_comma_with_emptySpace).astype('int')"
   ]
  },
  {
   "cell_type": "code",
   "execution_count": 12,
   "metadata": {},
   "outputs": [],
   "source": [
    "newdata['AmountInUSD']=round(newdata['AmountInUSD'].fillna(0))"
   ]
  },
  {
   "cell_type": "code",
   "execution_count": 13,
   "metadata": {},
   "outputs": [
    {
     "data": {
      "text/html": [
       "<div>\n",
       "<style scoped>\n",
       "    .dataframe tbody tr th:only-of-type {\n",
       "        vertical-align: middle;\n",
       "    }\n",
       "\n",
       "    .dataframe tbody tr th {\n",
       "        vertical-align: top;\n",
       "    }\n",
       "\n",
       "    .dataframe thead th {\n",
       "        text-align: right;\n",
       "    }\n",
       "</style>\n",
       "<table border=\"1\" class=\"dataframe\">\n",
       "  <thead>\n",
       "    <tr style=\"text-align: right;\">\n",
       "      <th></th>\n",
       "      <th>SNo</th>\n",
       "      <th>Date</th>\n",
       "      <th>StartupName</th>\n",
       "      <th>IndustryVertical</th>\n",
       "      <th>SubVertical</th>\n",
       "      <th>CityLocation</th>\n",
       "      <th>InvestorsName</th>\n",
       "      <th>InvestmentType</th>\n",
       "      <th>AmountInUSD</th>\n",
       "      <th>Remarks</th>\n",
       "    </tr>\n",
       "  </thead>\n",
       "  <tbody>\n",
       "    <tr>\n",
       "      <th>0</th>\n",
       "      <td>0</td>\n",
       "      <td>01/08/2017</td>\n",
       "      <td>TouchKin</td>\n",
       "      <td>Technology</td>\n",
       "      <td>Predictive Care Platform</td>\n",
       "      <td>Bangalore</td>\n",
       "      <td>Kae Capital</td>\n",
       "      <td>Private Equity</td>\n",
       "      <td>1300000.0</td>\n",
       "      <td>NaN</td>\n",
       "    </tr>\n",
       "    <tr>\n",
       "      <th>1</th>\n",
       "      <td>1</td>\n",
       "      <td>02/08/2017</td>\n",
       "      <td>Ethinos</td>\n",
       "      <td>Technology</td>\n",
       "      <td>Digital Marketing Agency</td>\n",
       "      <td>Mumbai</td>\n",
       "      <td>Triton Investment Advisors</td>\n",
       "      <td>Private Equity</td>\n",
       "      <td>0.0</td>\n",
       "      <td>NaN</td>\n",
       "    </tr>\n",
       "    <tr>\n",
       "      <th>2</th>\n",
       "      <td>2</td>\n",
       "      <td>02/08/2017</td>\n",
       "      <td>Leverage Edu</td>\n",
       "      <td>Consumer Internet</td>\n",
       "      <td>Online platform for Higher Education Services</td>\n",
       "      <td>New Delhi</td>\n",
       "      <td>Kashyap Deorah, Anand Sankeshwar, Deepak Jain,...</td>\n",
       "      <td>Seed Funding</td>\n",
       "      <td>0.0</td>\n",
       "      <td>NaN</td>\n",
       "    </tr>\n",
       "    <tr>\n",
       "      <th>3</th>\n",
       "      <td>3</td>\n",
       "      <td>02/08/2017</td>\n",
       "      <td>Zepo</td>\n",
       "      <td>Consumer Internet</td>\n",
       "      <td>DIY Ecommerce platform</td>\n",
       "      <td>Mumbai</td>\n",
       "      <td>Kunal Shah, LetsVenture, Anupam Mittal, Hetal ...</td>\n",
       "      <td>Seed Funding</td>\n",
       "      <td>500000.0</td>\n",
       "      <td>NaN</td>\n",
       "    </tr>\n",
       "  </tbody>\n",
       "</table>\n",
       "</div>"
      ],
      "text/plain": [
       "   SNo        Date   StartupName   IndustryVertical  \\\n",
       "0    0  01/08/2017      TouchKin         Technology   \n",
       "1    1  02/08/2017       Ethinos         Technology   \n",
       "2    2  02/08/2017  Leverage Edu  Consumer Internet   \n",
       "3    3  02/08/2017          Zepo  Consumer Internet   \n",
       "\n",
       "                                     SubVertical CityLocation  \\\n",
       "0                       Predictive Care Platform    Bangalore   \n",
       "1                       Digital Marketing Agency       Mumbai   \n",
       "2  Online platform for Higher Education Services    New Delhi   \n",
       "3                         DIY Ecommerce platform       Mumbai   \n",
       "\n",
       "                                       InvestorsName  InvestmentType  \\\n",
       "0                                        Kae Capital  Private Equity   \n",
       "1                         Triton Investment Advisors  Private Equity   \n",
       "2  Kashyap Deorah, Anand Sankeshwar, Deepak Jain,...    Seed Funding   \n",
       "3  Kunal Shah, LetsVenture, Anupam Mittal, Hetal ...    Seed Funding   \n",
       "\n",
       "   AmountInUSD Remarks  \n",
       "0    1300000.0     NaN  \n",
       "1          0.0     NaN  \n",
       "2          0.0     NaN  \n",
       "3     500000.0     NaN  "
      ]
     },
     "execution_count": 13,
     "metadata": {},
     "output_type": "execute_result"
    }
   ],
   "source": [
    "newdata.head(4)"
   ]
  },
  {
   "cell_type": "markdown",
   "metadata": {},
   "source": [
    "#### Formatting and filling in city location"
   ]
  },
  {
   "cell_type": "code",
   "execution_count": 14,
   "metadata": {},
   "outputs": [],
   "source": [
    "newdata['CityLocation']=newdata['CityLocation'].fillna(value='NotSpecified')"
   ]
  },
  {
   "cell_type": "code",
   "execution_count": 15,
   "metadata": {},
   "outputs": [],
   "source": [
    "def convert_Slash(x):#converts citylocation where multiple citiescentres\n",
    "    x=x.lower()\n",
    "    if   re.search('/',x):\n",
    "        return x.split('/')[0].strip()\n",
    "    else :\n",
    "        return x.strip()\n",
    "newdata['CityLocation']=newdata['CityLocation'].apply(convert_Slash)"
   ]
  },
  {
   "cell_type": "code",
   "execution_count": 16,
   "metadata": {},
   "outputs": [
    {
     "data": {
      "text/html": [
       "<div>\n",
       "<style scoped>\n",
       "    .dataframe tbody tr th:only-of-type {\n",
       "        vertical-align: middle;\n",
       "    }\n",
       "\n",
       "    .dataframe tbody tr th {\n",
       "        vertical-align: top;\n",
       "    }\n",
       "\n",
       "    .dataframe thead th {\n",
       "        text-align: right;\n",
       "    }\n",
       "</style>\n",
       "<table border=\"1\" class=\"dataframe\">\n",
       "  <thead>\n",
       "    <tr style=\"text-align: right;\">\n",
       "      <th></th>\n",
       "      <th>SNo</th>\n",
       "      <th>Date</th>\n",
       "      <th>StartupName</th>\n",
       "      <th>IndustryVertical</th>\n",
       "      <th>SubVertical</th>\n",
       "      <th>CityLocation</th>\n",
       "      <th>InvestorsName</th>\n",
       "      <th>InvestmentType</th>\n",
       "      <th>AmountInUSD</th>\n",
       "      <th>Remarks</th>\n",
       "    </tr>\n",
       "  </thead>\n",
       "  <tbody>\n",
       "    <tr>\n",
       "      <th>2368</th>\n",
       "      <td>2368</td>\n",
       "      <td>29/01/2015</td>\n",
       "      <td>Graphene</td>\n",
       "      <td>NaN</td>\n",
       "      <td>NaN</td>\n",
       "      <td>notspecified</td>\n",
       "      <td>KARSEMVEN Fund</td>\n",
       "      <td>Private Equity</td>\n",
       "      <td>825000.0</td>\n",
       "      <td>Govt backed VC Fund</td>\n",
       "    </tr>\n",
       "    <tr>\n",
       "      <th>2369</th>\n",
       "      <td>2369</td>\n",
       "      <td>30/01/2015</td>\n",
       "      <td>Mad Street Den</td>\n",
       "      <td>NaN</td>\n",
       "      <td>NaN</td>\n",
       "      <td>notspecified</td>\n",
       "      <td>Exfinity Fund, GrowX Ventures.</td>\n",
       "      <td>Private Equity</td>\n",
       "      <td>1500000.0</td>\n",
       "      <td>NaN</td>\n",
       "    </tr>\n",
       "    <tr>\n",
       "      <th>2370</th>\n",
       "      <td>2370</td>\n",
       "      <td>30/01/2015</td>\n",
       "      <td>Simplotel</td>\n",
       "      <td>NaN</td>\n",
       "      <td>NaN</td>\n",
       "      <td>notspecified</td>\n",
       "      <td>MakeMyTrip</td>\n",
       "      <td>Private Equity</td>\n",
       "      <td>0.0</td>\n",
       "      <td>Strategic Funding, Minority stake</td>\n",
       "    </tr>\n",
       "    <tr>\n",
       "      <th>2371</th>\n",
       "      <td>2371</td>\n",
       "      <td>31/01/2015</td>\n",
       "      <td>couponmachine.in</td>\n",
       "      <td>NaN</td>\n",
       "      <td>NaN</td>\n",
       "      <td>notspecified</td>\n",
       "      <td>UK based Group of Angel Investors</td>\n",
       "      <td>Seed Funding</td>\n",
       "      <td>140000.0</td>\n",
       "      <td>NaN</td>\n",
       "    </tr>\n",
       "  </tbody>\n",
       "</table>\n",
       "</div>"
      ],
      "text/plain": [
       "       SNo        Date       StartupName IndustryVertical SubVertical  \\\n",
       "2368  2368  29/01/2015          Graphene              NaN         NaN   \n",
       "2369  2369  30/01/2015    Mad Street Den              NaN         NaN   \n",
       "2370  2370  30/01/2015         Simplotel              NaN         NaN   \n",
       "2371  2371  31/01/2015  couponmachine.in              NaN         NaN   \n",
       "\n",
       "      CityLocation                      InvestorsName  InvestmentType  \\\n",
       "2368  notspecified                     KARSEMVEN Fund  Private Equity   \n",
       "2369  notspecified     Exfinity Fund, GrowX Ventures.  Private Equity   \n",
       "2370  notspecified                         MakeMyTrip  Private Equity   \n",
       "2371  notspecified  UK based Group of Angel Investors    Seed Funding   \n",
       "\n",
       "      AmountInUSD                            Remarks  \n",
       "2368     825000.0                Govt backed VC Fund  \n",
       "2369    1500000.0                                NaN  \n",
       "2370          0.0  Strategic Funding, Minority stake  \n",
       "2371     140000.0                                NaN  "
      ]
     },
     "execution_count": 16,
     "metadata": {},
     "output_type": "execute_result"
    }
   ],
   "source": [
    "newdata.tail(4)"
   ]
  },
  {
   "cell_type": "markdown",
   "metadata": {},
   "source": [
    "#### Formatting Date"
   ]
  },
  {
   "cell_type": "code",
   "execution_count": 17,
   "metadata": {},
   "outputs": [],
   "source": [
    "def rem_err_date(x):#function checks for error in format of date column in funding dataframe\n",
    "    if re.search('.',x):\n",
    "        return x.replace('.','')\n",
    "    return x\n",
    "newdata['Date']=newdata['Date'].apply(rem_err_date)\n",
    "newdata['Date'].replace('12/052015','12/05/2015',inplace=True)\n",
    "newdata['Date'].replace('15/012015','15/01/2015',inplace=True)\n",
    "newdata['Date'].replace('22/01//2015','22/01/2015',inplace=True)\n",
    "newdata['Date'].replace('13/042015','13/04/2015',inplace=True)"
   ]
  },
  {
   "cell_type": "code",
   "execution_count": 18,
   "metadata": {},
   "outputs": [
    {
     "data": {
      "text/html": [
       "<div>\n",
       "<style scoped>\n",
       "    .dataframe tbody tr th:only-of-type {\n",
       "        vertical-align: middle;\n",
       "    }\n",
       "\n",
       "    .dataframe tbody tr th {\n",
       "        vertical-align: top;\n",
       "    }\n",
       "\n",
       "    .dataframe thead th {\n",
       "        text-align: right;\n",
       "    }\n",
       "</style>\n",
       "<table border=\"1\" class=\"dataframe\">\n",
       "  <thead>\n",
       "    <tr style=\"text-align: right;\">\n",
       "      <th></th>\n",
       "      <th>SNo</th>\n",
       "      <th>Date</th>\n",
       "      <th>StartupName</th>\n",
       "      <th>IndustryVertical</th>\n",
       "      <th>SubVertical</th>\n",
       "      <th>CityLocation</th>\n",
       "      <th>InvestorsName</th>\n",
       "      <th>InvestmentType</th>\n",
       "      <th>AmountInUSD</th>\n",
       "      <th>Remarks</th>\n",
       "    </tr>\n",
       "  </thead>\n",
       "  <tbody>\n",
       "    <tr>\n",
       "      <th>2368</th>\n",
       "      <td>2368</td>\n",
       "      <td>29/01/2015</td>\n",
       "      <td>Graphene</td>\n",
       "      <td>NaN</td>\n",
       "      <td>NaN</td>\n",
       "      <td>notspecified</td>\n",
       "      <td>KARSEMVEN Fund</td>\n",
       "      <td>Private Equity</td>\n",
       "      <td>825000.0</td>\n",
       "      <td>Govt backed VC Fund</td>\n",
       "    </tr>\n",
       "    <tr>\n",
       "      <th>2369</th>\n",
       "      <td>2369</td>\n",
       "      <td>30/01/2015</td>\n",
       "      <td>Mad Street Den</td>\n",
       "      <td>NaN</td>\n",
       "      <td>NaN</td>\n",
       "      <td>notspecified</td>\n",
       "      <td>Exfinity Fund, GrowX Ventures.</td>\n",
       "      <td>Private Equity</td>\n",
       "      <td>1500000.0</td>\n",
       "      <td>NaN</td>\n",
       "    </tr>\n",
       "    <tr>\n",
       "      <th>2370</th>\n",
       "      <td>2370</td>\n",
       "      <td>30/01/2015</td>\n",
       "      <td>Simplotel</td>\n",
       "      <td>NaN</td>\n",
       "      <td>NaN</td>\n",
       "      <td>notspecified</td>\n",
       "      <td>MakeMyTrip</td>\n",
       "      <td>Private Equity</td>\n",
       "      <td>0.0</td>\n",
       "      <td>Strategic Funding, Minority stake</td>\n",
       "    </tr>\n",
       "    <tr>\n",
       "      <th>2371</th>\n",
       "      <td>2371</td>\n",
       "      <td>31/01/2015</td>\n",
       "      <td>couponmachine.in</td>\n",
       "      <td>NaN</td>\n",
       "      <td>NaN</td>\n",
       "      <td>notspecified</td>\n",
       "      <td>UK based Group of Angel Investors</td>\n",
       "      <td>Seed Funding</td>\n",
       "      <td>140000.0</td>\n",
       "      <td>NaN</td>\n",
       "    </tr>\n",
       "  </tbody>\n",
       "</table>\n",
       "</div>"
      ],
      "text/plain": [
       "       SNo        Date       StartupName IndustryVertical SubVertical  \\\n",
       "2368  2368  29/01/2015          Graphene              NaN         NaN   \n",
       "2369  2369  30/01/2015    Mad Street Den              NaN         NaN   \n",
       "2370  2370  30/01/2015         Simplotel              NaN         NaN   \n",
       "2371  2371  31/01/2015  couponmachine.in              NaN         NaN   \n",
       "\n",
       "      CityLocation                      InvestorsName  InvestmentType  \\\n",
       "2368  notspecified                     KARSEMVEN Fund  Private Equity   \n",
       "2369  notspecified     Exfinity Fund, GrowX Ventures.  Private Equity   \n",
       "2370  notspecified                         MakeMyTrip  Private Equity   \n",
       "2371  notspecified  UK based Group of Angel Investors    Seed Funding   \n",
       "\n",
       "      AmountInUSD                            Remarks  \n",
       "2368     825000.0                Govt backed VC Fund  \n",
       "2369    1500000.0                                NaN  \n",
       "2370          0.0  Strategic Funding, Minority stake  \n",
       "2371     140000.0                                NaN  "
      ]
     },
     "execution_count": 18,
     "metadata": {},
     "output_type": "execute_result"
    }
   ],
   "source": [
    "newdata.tail(4)"
   ]
  },
  {
   "cell_type": "markdown",
   "metadata": {},
   "source": [
    "#### Formatting Inverstment type"
   ]
  },
  {
   "cell_type": "code",
   "execution_count": 19,
   "metadata": {},
   "outputs": [
    {
     "data": {
      "text/plain": [
       "Index(['Seed Funding', 'Private Equity', 'SeedFunding', 'Crowd Funding',\n",
       "       'Crowd funding', 'Debt Funding', 'PrivateEquity'],\n",
       "      dtype='object')"
      ]
     },
     "execution_count": 19,
     "metadata": {},
     "output_type": "execute_result"
    }
   ],
   "source": [
    "newdata['InvestmentType'].value_counts().index"
   ]
  },
  {
   "cell_type": "code",
   "execution_count": 20,
   "metadata": {},
   "outputs": [],
   "source": [
    "newdata['InvestmentType'].fillna(method='bfill',inplace=True)#backward filling of null values"
   ]
  },
  {
   "cell_type": "code",
   "execution_count": 21,
   "metadata": {},
   "outputs": [],
   "source": [
    "newdata['InvestmentType']= [x.replace(' ', '').lower() for x in newdata['InvestmentType']]"
   ]
  },
  {
   "cell_type": "code",
   "execution_count": 22,
   "metadata": {},
   "outputs": [
    {
     "data": {
      "text/plain": [
       "Index(['seedfunding', 'privateequity', 'crowdfunding', 'debtfunding'], dtype='object')"
      ]
     },
     "execution_count": 22,
     "metadata": {},
     "output_type": "execute_result"
    }
   ],
   "source": [
    "newdata['InvestmentType'].value_counts().index"
   ]
  },
  {
   "cell_type": "code",
   "execution_count": 23,
   "metadata": {
    "scrolled": true
   },
   "outputs": [
    {
     "data": {
      "text/html": [
       "<div>\n",
       "<style scoped>\n",
       "    .dataframe tbody tr th:only-of-type {\n",
       "        vertical-align: middle;\n",
       "    }\n",
       "\n",
       "    .dataframe tbody tr th {\n",
       "        vertical-align: top;\n",
       "    }\n",
       "\n",
       "    .dataframe thead th {\n",
       "        text-align: right;\n",
       "    }\n",
       "</style>\n",
       "<table border=\"1\" class=\"dataframe\">\n",
       "  <thead>\n",
       "    <tr style=\"text-align: right;\">\n",
       "      <th></th>\n",
       "      <th>SNo</th>\n",
       "      <th>Date</th>\n",
       "      <th>StartupName</th>\n",
       "      <th>IndustryVertical</th>\n",
       "      <th>SubVertical</th>\n",
       "      <th>CityLocation</th>\n",
       "      <th>InvestorsName</th>\n",
       "      <th>InvestmentType</th>\n",
       "      <th>AmountInUSD</th>\n",
       "      <th>Remarks</th>\n",
       "    </tr>\n",
       "  </thead>\n",
       "  <tbody>\n",
       "    <tr>\n",
       "      <th>2368</th>\n",
       "      <td>2368</td>\n",
       "      <td>29/01/2015</td>\n",
       "      <td>Graphene</td>\n",
       "      <td>NaN</td>\n",
       "      <td>NaN</td>\n",
       "      <td>notspecified</td>\n",
       "      <td>KARSEMVEN Fund</td>\n",
       "      <td>privateequity</td>\n",
       "      <td>825000.0</td>\n",
       "      <td>Govt backed VC Fund</td>\n",
       "    </tr>\n",
       "    <tr>\n",
       "      <th>2369</th>\n",
       "      <td>2369</td>\n",
       "      <td>30/01/2015</td>\n",
       "      <td>Mad Street Den</td>\n",
       "      <td>NaN</td>\n",
       "      <td>NaN</td>\n",
       "      <td>notspecified</td>\n",
       "      <td>Exfinity Fund, GrowX Ventures.</td>\n",
       "      <td>privateequity</td>\n",
       "      <td>1500000.0</td>\n",
       "      <td>NaN</td>\n",
       "    </tr>\n",
       "    <tr>\n",
       "      <th>2370</th>\n",
       "      <td>2370</td>\n",
       "      <td>30/01/2015</td>\n",
       "      <td>Simplotel</td>\n",
       "      <td>NaN</td>\n",
       "      <td>NaN</td>\n",
       "      <td>notspecified</td>\n",
       "      <td>MakeMyTrip</td>\n",
       "      <td>privateequity</td>\n",
       "      <td>0.0</td>\n",
       "      <td>Strategic Funding, Minority stake</td>\n",
       "    </tr>\n",
       "    <tr>\n",
       "      <th>2371</th>\n",
       "      <td>2371</td>\n",
       "      <td>31/01/2015</td>\n",
       "      <td>couponmachine.in</td>\n",
       "      <td>NaN</td>\n",
       "      <td>NaN</td>\n",
       "      <td>notspecified</td>\n",
       "      <td>UK based Group of Angel Investors</td>\n",
       "      <td>seedfunding</td>\n",
       "      <td>140000.0</td>\n",
       "      <td>NaN</td>\n",
       "    </tr>\n",
       "  </tbody>\n",
       "</table>\n",
       "</div>"
      ],
      "text/plain": [
       "       SNo        Date       StartupName IndustryVertical SubVertical  \\\n",
       "2368  2368  29/01/2015          Graphene              NaN         NaN   \n",
       "2369  2369  30/01/2015    Mad Street Den              NaN         NaN   \n",
       "2370  2370  30/01/2015         Simplotel              NaN         NaN   \n",
       "2371  2371  31/01/2015  couponmachine.in              NaN         NaN   \n",
       "\n",
       "      CityLocation                      InvestorsName InvestmentType  \\\n",
       "2368  notspecified                     KARSEMVEN Fund  privateequity   \n",
       "2369  notspecified     Exfinity Fund, GrowX Ventures.  privateequity   \n",
       "2370  notspecified                         MakeMyTrip  privateequity   \n",
       "2371  notspecified  UK based Group of Angel Investors    seedfunding   \n",
       "\n",
       "      AmountInUSD                            Remarks  \n",
       "2368     825000.0                Govt backed VC Fund  \n",
       "2369    1500000.0                                NaN  \n",
       "2370          0.0  Strategic Funding, Minority stake  \n",
       "2371     140000.0                                NaN  "
      ]
     },
     "execution_count": 23,
     "metadata": {},
     "output_type": "execute_result"
    }
   ],
   "source": [
    "newdata.tail(4)"
   ]
  },
  {
   "cell_type": "markdown",
   "metadata": {},
   "source": [
    "#### Fill in missing IndustryVertical"
   ]
  },
  {
   "cell_type": "code",
   "execution_count": 24,
   "metadata": {},
   "outputs": [],
   "source": [
    "newdata['IndustryVertical']=newdata['IndustryVertical'].fillna(value='Other')"
   ]
  },
  {
   "cell_type": "code",
   "execution_count": 25,
   "metadata": {},
   "outputs": [
    {
     "data": {
      "text/html": [
       "<div>\n",
       "<style scoped>\n",
       "    .dataframe tbody tr th:only-of-type {\n",
       "        vertical-align: middle;\n",
       "    }\n",
       "\n",
       "    .dataframe tbody tr th {\n",
       "        vertical-align: top;\n",
       "    }\n",
       "\n",
       "    .dataframe thead th {\n",
       "        text-align: right;\n",
       "    }\n",
       "</style>\n",
       "<table border=\"1\" class=\"dataframe\">\n",
       "  <thead>\n",
       "    <tr style=\"text-align: right;\">\n",
       "      <th></th>\n",
       "      <th>SNo</th>\n",
       "      <th>Date</th>\n",
       "      <th>StartupName</th>\n",
       "      <th>IndustryVertical</th>\n",
       "      <th>SubVertical</th>\n",
       "      <th>CityLocation</th>\n",
       "      <th>InvestorsName</th>\n",
       "      <th>InvestmentType</th>\n",
       "      <th>AmountInUSD</th>\n",
       "      <th>Remarks</th>\n",
       "    </tr>\n",
       "  </thead>\n",
       "  <tbody>\n",
       "    <tr>\n",
       "      <th>2368</th>\n",
       "      <td>2368</td>\n",
       "      <td>29/01/2015</td>\n",
       "      <td>Graphene</td>\n",
       "      <td>Other</td>\n",
       "      <td>NaN</td>\n",
       "      <td>notspecified</td>\n",
       "      <td>KARSEMVEN Fund</td>\n",
       "      <td>privateequity</td>\n",
       "      <td>825000.0</td>\n",
       "      <td>Govt backed VC Fund</td>\n",
       "    </tr>\n",
       "    <tr>\n",
       "      <th>2369</th>\n",
       "      <td>2369</td>\n",
       "      <td>30/01/2015</td>\n",
       "      <td>Mad Street Den</td>\n",
       "      <td>Other</td>\n",
       "      <td>NaN</td>\n",
       "      <td>notspecified</td>\n",
       "      <td>Exfinity Fund, GrowX Ventures.</td>\n",
       "      <td>privateequity</td>\n",
       "      <td>1500000.0</td>\n",
       "      <td>NaN</td>\n",
       "    </tr>\n",
       "    <tr>\n",
       "      <th>2370</th>\n",
       "      <td>2370</td>\n",
       "      <td>30/01/2015</td>\n",
       "      <td>Simplotel</td>\n",
       "      <td>Other</td>\n",
       "      <td>NaN</td>\n",
       "      <td>notspecified</td>\n",
       "      <td>MakeMyTrip</td>\n",
       "      <td>privateequity</td>\n",
       "      <td>0.0</td>\n",
       "      <td>Strategic Funding, Minority stake</td>\n",
       "    </tr>\n",
       "    <tr>\n",
       "      <th>2371</th>\n",
       "      <td>2371</td>\n",
       "      <td>31/01/2015</td>\n",
       "      <td>couponmachine.in</td>\n",
       "      <td>Other</td>\n",
       "      <td>NaN</td>\n",
       "      <td>notspecified</td>\n",
       "      <td>UK based Group of Angel Investors</td>\n",
       "      <td>seedfunding</td>\n",
       "      <td>140000.0</td>\n",
       "      <td>NaN</td>\n",
       "    </tr>\n",
       "  </tbody>\n",
       "</table>\n",
       "</div>"
      ],
      "text/plain": [
       "       SNo        Date       StartupName IndustryVertical SubVertical  \\\n",
       "2368  2368  29/01/2015          Graphene            Other         NaN   \n",
       "2369  2369  30/01/2015    Mad Street Den            Other         NaN   \n",
       "2370  2370  30/01/2015         Simplotel            Other         NaN   \n",
       "2371  2371  31/01/2015  couponmachine.in            Other         NaN   \n",
       "\n",
       "      CityLocation                      InvestorsName InvestmentType  \\\n",
       "2368  notspecified                     KARSEMVEN Fund  privateequity   \n",
       "2369  notspecified     Exfinity Fund, GrowX Ventures.  privateequity   \n",
       "2370  notspecified                         MakeMyTrip  privateequity   \n",
       "2371  notspecified  UK based Group of Angel Investors    seedfunding   \n",
       "\n",
       "      AmountInUSD                            Remarks  \n",
       "2368     825000.0                Govt backed VC Fund  \n",
       "2369    1500000.0                                NaN  \n",
       "2370          0.0  Strategic Funding, Minority stake  \n",
       "2371     140000.0                                NaN  "
      ]
     },
     "execution_count": 25,
     "metadata": {},
     "output_type": "execute_result"
    }
   ],
   "source": [
    "newdata.tail(4)"
   ]
  },
  {
   "cell_type": "markdown",
   "metadata": {},
   "source": [
    "#### Fill in missing SubVertical"
   ]
  },
  {
   "cell_type": "code",
   "execution_count": 26,
   "metadata": {},
   "outputs": [],
   "source": [
    "newdata['SubVertical']=newdata['SubVertical'].fillna(value='Other')"
   ]
  },
  {
   "cell_type": "code",
   "execution_count": 27,
   "metadata": {},
   "outputs": [
    {
     "data": {
      "text/html": [
       "<div>\n",
       "<style scoped>\n",
       "    .dataframe tbody tr th:only-of-type {\n",
       "        vertical-align: middle;\n",
       "    }\n",
       "\n",
       "    .dataframe tbody tr th {\n",
       "        vertical-align: top;\n",
       "    }\n",
       "\n",
       "    .dataframe thead th {\n",
       "        text-align: right;\n",
       "    }\n",
       "</style>\n",
       "<table border=\"1\" class=\"dataframe\">\n",
       "  <thead>\n",
       "    <tr style=\"text-align: right;\">\n",
       "      <th></th>\n",
       "      <th>SNo</th>\n",
       "      <th>Date</th>\n",
       "      <th>StartupName</th>\n",
       "      <th>IndustryVertical</th>\n",
       "      <th>SubVertical</th>\n",
       "      <th>CityLocation</th>\n",
       "      <th>InvestorsName</th>\n",
       "      <th>InvestmentType</th>\n",
       "      <th>AmountInUSD</th>\n",
       "      <th>Remarks</th>\n",
       "    </tr>\n",
       "  </thead>\n",
       "  <tbody>\n",
       "    <tr>\n",
       "      <th>2368</th>\n",
       "      <td>2368</td>\n",
       "      <td>29/01/2015</td>\n",
       "      <td>Graphene</td>\n",
       "      <td>Other</td>\n",
       "      <td>Other</td>\n",
       "      <td>notspecified</td>\n",
       "      <td>KARSEMVEN Fund</td>\n",
       "      <td>privateequity</td>\n",
       "      <td>825000.0</td>\n",
       "      <td>Govt backed VC Fund</td>\n",
       "    </tr>\n",
       "    <tr>\n",
       "      <th>2369</th>\n",
       "      <td>2369</td>\n",
       "      <td>30/01/2015</td>\n",
       "      <td>Mad Street Den</td>\n",
       "      <td>Other</td>\n",
       "      <td>Other</td>\n",
       "      <td>notspecified</td>\n",
       "      <td>Exfinity Fund, GrowX Ventures.</td>\n",
       "      <td>privateequity</td>\n",
       "      <td>1500000.0</td>\n",
       "      <td>NaN</td>\n",
       "    </tr>\n",
       "    <tr>\n",
       "      <th>2370</th>\n",
       "      <td>2370</td>\n",
       "      <td>30/01/2015</td>\n",
       "      <td>Simplotel</td>\n",
       "      <td>Other</td>\n",
       "      <td>Other</td>\n",
       "      <td>notspecified</td>\n",
       "      <td>MakeMyTrip</td>\n",
       "      <td>privateequity</td>\n",
       "      <td>0.0</td>\n",
       "      <td>Strategic Funding, Minority stake</td>\n",
       "    </tr>\n",
       "    <tr>\n",
       "      <th>2371</th>\n",
       "      <td>2371</td>\n",
       "      <td>31/01/2015</td>\n",
       "      <td>couponmachine.in</td>\n",
       "      <td>Other</td>\n",
       "      <td>Other</td>\n",
       "      <td>notspecified</td>\n",
       "      <td>UK based Group of Angel Investors</td>\n",
       "      <td>seedfunding</td>\n",
       "      <td>140000.0</td>\n",
       "      <td>NaN</td>\n",
       "    </tr>\n",
       "  </tbody>\n",
       "</table>\n",
       "</div>"
      ],
      "text/plain": [
       "       SNo        Date       StartupName IndustryVertical SubVertical  \\\n",
       "2368  2368  29/01/2015          Graphene            Other       Other   \n",
       "2369  2369  30/01/2015    Mad Street Den            Other       Other   \n",
       "2370  2370  30/01/2015         Simplotel            Other       Other   \n",
       "2371  2371  31/01/2015  couponmachine.in            Other       Other   \n",
       "\n",
       "      CityLocation                      InvestorsName InvestmentType  \\\n",
       "2368  notspecified                     KARSEMVEN Fund  privateequity   \n",
       "2369  notspecified     Exfinity Fund, GrowX Ventures.  privateequity   \n",
       "2370  notspecified                         MakeMyTrip  privateequity   \n",
       "2371  notspecified  UK based Group of Angel Investors    seedfunding   \n",
       "\n",
       "      AmountInUSD                            Remarks  \n",
       "2368     825000.0                Govt backed VC Fund  \n",
       "2369    1500000.0                                NaN  \n",
       "2370          0.0  Strategic Funding, Minority stake  \n",
       "2371     140000.0                                NaN  "
      ]
     },
     "execution_count": 27,
     "metadata": {},
     "output_type": "execute_result"
    }
   ],
   "source": [
    "newdata.tail(4)"
   ]
  },
  {
   "cell_type": "markdown",
   "metadata": {},
   "source": [
    "#### Fill in missing InvestorsName"
   ]
  },
  {
   "cell_type": "code",
   "execution_count": 28,
   "metadata": {},
   "outputs": [],
   "source": [
    "newdata['InvestorsName']=newdata['InvestorsName'].fillna(value='Unknown')"
   ]
  },
  {
   "cell_type": "code",
   "execution_count": 29,
   "metadata": {},
   "outputs": [
    {
     "data": {
      "text/html": [
       "<div>\n",
       "<style scoped>\n",
       "    .dataframe tbody tr th:only-of-type {\n",
       "        vertical-align: middle;\n",
       "    }\n",
       "\n",
       "    .dataframe tbody tr th {\n",
       "        vertical-align: top;\n",
       "    }\n",
       "\n",
       "    .dataframe thead th {\n",
       "        text-align: right;\n",
       "    }\n",
       "</style>\n",
       "<table border=\"1\" class=\"dataframe\">\n",
       "  <thead>\n",
       "    <tr style=\"text-align: right;\">\n",
       "      <th></th>\n",
       "      <th>SNo</th>\n",
       "      <th>Date</th>\n",
       "      <th>StartupName</th>\n",
       "      <th>IndustryVertical</th>\n",
       "      <th>SubVertical</th>\n",
       "      <th>CityLocation</th>\n",
       "      <th>InvestorsName</th>\n",
       "      <th>InvestmentType</th>\n",
       "      <th>AmountInUSD</th>\n",
       "      <th>Remarks</th>\n",
       "    </tr>\n",
       "  </thead>\n",
       "  <tbody>\n",
       "    <tr>\n",
       "      <th>2368</th>\n",
       "      <td>2368</td>\n",
       "      <td>29/01/2015</td>\n",
       "      <td>Graphene</td>\n",
       "      <td>Other</td>\n",
       "      <td>Other</td>\n",
       "      <td>notspecified</td>\n",
       "      <td>KARSEMVEN Fund</td>\n",
       "      <td>privateequity</td>\n",
       "      <td>825000.0</td>\n",
       "      <td>Govt backed VC Fund</td>\n",
       "    </tr>\n",
       "    <tr>\n",
       "      <th>2369</th>\n",
       "      <td>2369</td>\n",
       "      <td>30/01/2015</td>\n",
       "      <td>Mad Street Den</td>\n",
       "      <td>Other</td>\n",
       "      <td>Other</td>\n",
       "      <td>notspecified</td>\n",
       "      <td>Exfinity Fund, GrowX Ventures.</td>\n",
       "      <td>privateequity</td>\n",
       "      <td>1500000.0</td>\n",
       "      <td>NaN</td>\n",
       "    </tr>\n",
       "    <tr>\n",
       "      <th>2370</th>\n",
       "      <td>2370</td>\n",
       "      <td>30/01/2015</td>\n",
       "      <td>Simplotel</td>\n",
       "      <td>Other</td>\n",
       "      <td>Other</td>\n",
       "      <td>notspecified</td>\n",
       "      <td>MakeMyTrip</td>\n",
       "      <td>privateequity</td>\n",
       "      <td>0.0</td>\n",
       "      <td>Strategic Funding, Minority stake</td>\n",
       "    </tr>\n",
       "    <tr>\n",
       "      <th>2371</th>\n",
       "      <td>2371</td>\n",
       "      <td>31/01/2015</td>\n",
       "      <td>couponmachine.in</td>\n",
       "      <td>Other</td>\n",
       "      <td>Other</td>\n",
       "      <td>notspecified</td>\n",
       "      <td>UK based Group of Angel Investors</td>\n",
       "      <td>seedfunding</td>\n",
       "      <td>140000.0</td>\n",
       "      <td>NaN</td>\n",
       "    </tr>\n",
       "  </tbody>\n",
       "</table>\n",
       "</div>"
      ],
      "text/plain": [
       "       SNo        Date       StartupName IndustryVertical SubVertical  \\\n",
       "2368  2368  29/01/2015          Graphene            Other       Other   \n",
       "2369  2369  30/01/2015    Mad Street Den            Other       Other   \n",
       "2370  2370  30/01/2015         Simplotel            Other       Other   \n",
       "2371  2371  31/01/2015  couponmachine.in            Other       Other   \n",
       "\n",
       "      CityLocation                      InvestorsName InvestmentType  \\\n",
       "2368  notspecified                     KARSEMVEN Fund  privateequity   \n",
       "2369  notspecified     Exfinity Fund, GrowX Ventures.  privateequity   \n",
       "2370  notspecified                         MakeMyTrip  privateequity   \n",
       "2371  notspecified  UK based Group of Angel Investors    seedfunding   \n",
       "\n",
       "      AmountInUSD                            Remarks  \n",
       "2368     825000.0                Govt backed VC Fund  \n",
       "2369    1500000.0                                NaN  \n",
       "2370          0.0  Strategic Funding, Minority stake  \n",
       "2371     140000.0                                NaN  "
      ]
     },
     "execution_count": 29,
     "metadata": {},
     "output_type": "execute_result"
    }
   ],
   "source": [
    "newdata.tail(4)"
   ]
  },
  {
   "cell_type": "markdown",
   "metadata": {},
   "source": [
    "#### Deleting unwanted column remarks"
   ]
  },
  {
   "cell_type": "code",
   "execution_count": 30,
   "metadata": {},
   "outputs": [],
   "source": [
    "del newdata['Remarks'] # This is not used for any of our analysis"
   ]
  },
  {
   "cell_type": "code",
   "execution_count": 31,
   "metadata": {},
   "outputs": [
    {
     "data": {
      "text/html": [
       "<div>\n",
       "<style scoped>\n",
       "    .dataframe tbody tr th:only-of-type {\n",
       "        vertical-align: middle;\n",
       "    }\n",
       "\n",
       "    .dataframe tbody tr th {\n",
       "        vertical-align: top;\n",
       "    }\n",
       "\n",
       "    .dataframe thead th {\n",
       "        text-align: right;\n",
       "    }\n",
       "</style>\n",
       "<table border=\"1\" class=\"dataframe\">\n",
       "  <thead>\n",
       "    <tr style=\"text-align: right;\">\n",
       "      <th></th>\n",
       "      <th>SNo</th>\n",
       "      <th>Date</th>\n",
       "      <th>StartupName</th>\n",
       "      <th>IndustryVertical</th>\n",
       "      <th>SubVertical</th>\n",
       "      <th>CityLocation</th>\n",
       "      <th>InvestorsName</th>\n",
       "      <th>InvestmentType</th>\n",
       "      <th>AmountInUSD</th>\n",
       "    </tr>\n",
       "  </thead>\n",
       "  <tbody>\n",
       "    <tr>\n",
       "      <th>2368</th>\n",
       "      <td>2368</td>\n",
       "      <td>29/01/2015</td>\n",
       "      <td>Graphene</td>\n",
       "      <td>Other</td>\n",
       "      <td>Other</td>\n",
       "      <td>notspecified</td>\n",
       "      <td>KARSEMVEN Fund</td>\n",
       "      <td>privateequity</td>\n",
       "      <td>825000.0</td>\n",
       "    </tr>\n",
       "    <tr>\n",
       "      <th>2369</th>\n",
       "      <td>2369</td>\n",
       "      <td>30/01/2015</td>\n",
       "      <td>Mad Street Den</td>\n",
       "      <td>Other</td>\n",
       "      <td>Other</td>\n",
       "      <td>notspecified</td>\n",
       "      <td>Exfinity Fund, GrowX Ventures.</td>\n",
       "      <td>privateequity</td>\n",
       "      <td>1500000.0</td>\n",
       "    </tr>\n",
       "    <tr>\n",
       "      <th>2370</th>\n",
       "      <td>2370</td>\n",
       "      <td>30/01/2015</td>\n",
       "      <td>Simplotel</td>\n",
       "      <td>Other</td>\n",
       "      <td>Other</td>\n",
       "      <td>notspecified</td>\n",
       "      <td>MakeMyTrip</td>\n",
       "      <td>privateequity</td>\n",
       "      <td>0.0</td>\n",
       "    </tr>\n",
       "    <tr>\n",
       "      <th>2371</th>\n",
       "      <td>2371</td>\n",
       "      <td>31/01/2015</td>\n",
       "      <td>couponmachine.in</td>\n",
       "      <td>Other</td>\n",
       "      <td>Other</td>\n",
       "      <td>notspecified</td>\n",
       "      <td>UK based Group of Angel Investors</td>\n",
       "      <td>seedfunding</td>\n",
       "      <td>140000.0</td>\n",
       "    </tr>\n",
       "  </tbody>\n",
       "</table>\n",
       "</div>"
      ],
      "text/plain": [
       "       SNo        Date       StartupName IndustryVertical SubVertical  \\\n",
       "2368  2368  29/01/2015          Graphene            Other       Other   \n",
       "2369  2369  30/01/2015    Mad Street Den            Other       Other   \n",
       "2370  2370  30/01/2015         Simplotel            Other       Other   \n",
       "2371  2371  31/01/2015  couponmachine.in            Other       Other   \n",
       "\n",
       "      CityLocation                      InvestorsName InvestmentType  \\\n",
       "2368  notspecified                     KARSEMVEN Fund  privateequity   \n",
       "2369  notspecified     Exfinity Fund, GrowX Ventures.  privateequity   \n",
       "2370  notspecified                         MakeMyTrip  privateequity   \n",
       "2371  notspecified  UK based Group of Angel Investors    seedfunding   \n",
       "\n",
       "      AmountInUSD  \n",
       "2368     825000.0  \n",
       "2369    1500000.0  \n",
       "2370          0.0  \n",
       "2371     140000.0  "
      ]
     },
     "execution_count": 31,
     "metadata": {},
     "output_type": "execute_result"
    }
   ],
   "source": [
    "newdata.tail(4)"
   ]
  },
  {
   "cell_type": "markdown",
   "metadata": {},
   "source": [
    "Analysis of data after clean up"
   ]
  },
  {
   "cell_type": "code",
   "execution_count": 32,
   "metadata": {},
   "outputs": [
    {
     "data": {
      "text/plain": [
       "<matplotlib.axes._subplots.AxesSubplot at 0x1a1b8029e8>"
      ]
     },
     "execution_count": 32,
     "metadata": {},
     "output_type": "execute_result"
    },
    {
     "data": {
      "image/png": "[encoded data removed]",
      "text/plain": [
       "<Figure size 720x360 with 1 Axes>"
      ]
     },
     "metadata": {},
     "output_type": "display_data"
    }
   ],
   "source": [
    "plt.figure(figsize=(10,5))\n",
    "sns.heatmap(newdata.isnull(),cmap='viridis',yticklabels=False,cbar=False)"
   ]
  },
  {
   "cell_type": "markdown",
   "metadata": {},
   "source": [
    "## Data exploration"
   ]
  },
  {
   "cell_type": "code",
   "execution_count": 33,
   "metadata": {},
   "outputs": [],
   "source": [
    "newdata['Date'] = pd.to_datetime(newdata['Date'], format='%d/%m/%Y')\n",
    "newdata['YrMo'] = [str(x.year) + '-' + str(x.month).zfill(2) for x in newdata['Date']]"
   ]
  },
  {
   "cell_type": "code",
   "execution_count": 34,
   "metadata": {},
   "outputs": [
    {
     "data": {
      "text/html": [
       "<div>\n",
       "<style scoped>\n",
       "    .dataframe tbody tr th:only-of-type {\n",
       "        vertical-align: middle;\n",
       "    }\n",
       "\n",
       "    .dataframe tbody tr th {\n",
       "        vertical-align: top;\n",
       "    }\n",
       "\n",
       "    .dataframe thead th {\n",
       "        text-align: right;\n",
       "    }\n",
       "</style>\n",
       "<table border=\"1\" class=\"dataframe\">\n",
       "  <thead>\n",
       "    <tr style=\"text-align: right;\">\n",
       "      <th></th>\n",
       "      <th>SNo</th>\n",
       "      <th>Date</th>\n",
       "      <th>StartupName</th>\n",
       "      <th>IndustryVertical</th>\n",
       "      <th>SubVertical</th>\n",
       "      <th>CityLocation</th>\n",
       "      <th>InvestorsName</th>\n",
       "      <th>InvestmentType</th>\n",
       "      <th>AmountInUSD</th>\n",
       "      <th>YrMo</th>\n",
       "    </tr>\n",
       "  </thead>\n",
       "  <tbody>\n",
       "    <tr>\n",
       "      <th>2368</th>\n",
       "      <td>2368</td>\n",
       "      <td>2015-01-29</td>\n",
       "      <td>Graphene</td>\n",
       "      <td>Other</td>\n",
       "      <td>Other</td>\n",
       "      <td>notspecified</td>\n",
       "      <td>KARSEMVEN Fund</td>\n",
       "      <td>privateequity</td>\n",
       "      <td>825000.0</td>\n",
       "      <td>2015-01</td>\n",
       "    </tr>\n",
       "    <tr>\n",
       "      <th>2369</th>\n",
       "      <td>2369</td>\n",
       "      <td>2015-01-30</td>\n",
       "      <td>Mad Street Den</td>\n",
       "      <td>Other</td>\n",
       "      <td>Other</td>\n",
       "      <td>notspecified</td>\n",
       "      <td>Exfinity Fund, GrowX Ventures.</td>\n",
       "      <td>privateequity</td>\n",
       "      <td>1500000.0</td>\n",
       "      <td>2015-01</td>\n",
       "    </tr>\n",
       "    <tr>\n",
       "      <th>2370</th>\n",
       "      <td>2370</td>\n",
       "      <td>2015-01-30</td>\n",
       "      <td>Simplotel</td>\n",
       "      <td>Other</td>\n",
       "      <td>Other</td>\n",
       "      <td>notspecified</td>\n",
       "      <td>MakeMyTrip</td>\n",
       "      <td>privateequity</td>\n",
       "      <td>0.0</td>\n",
       "      <td>2015-01</td>\n",
       "    </tr>\n",
       "    <tr>\n",
       "      <th>2371</th>\n",
       "      <td>2371</td>\n",
       "      <td>2015-01-31</td>\n",
       "      <td>couponmachine.in</td>\n",
       "      <td>Other</td>\n",
       "      <td>Other</td>\n",
       "      <td>notspecified</td>\n",
       "      <td>UK based Group of Angel Investors</td>\n",
       "      <td>seedfunding</td>\n",
       "      <td>140000.0</td>\n",
       "      <td>2015-01</td>\n",
       "    </tr>\n",
       "  </tbody>\n",
       "</table>\n",
       "</div>"
      ],
      "text/plain": [
       "       SNo       Date       StartupName IndustryVertical SubVertical  \\\n",
       "2368  2368 2015-01-29          Graphene            Other       Other   \n",
       "2369  2369 2015-01-30    Mad Street Den            Other       Other   \n",
       "2370  2370 2015-01-30         Simplotel            Other       Other   \n",
       "2371  2371 2015-01-31  couponmachine.in            Other       Other   \n",
       "\n",
       "      CityLocation                      InvestorsName InvestmentType  \\\n",
       "2368  notspecified                     KARSEMVEN Fund  privateequity   \n",
       "2369  notspecified     Exfinity Fund, GrowX Ventures.  privateequity   \n",
       "2370  notspecified                         MakeMyTrip  privateequity   \n",
       "2371  notspecified  UK based Group of Angel Investors    seedfunding   \n",
       "\n",
       "      AmountInUSD     YrMo  \n",
       "2368     825000.0  2015-01  \n",
       "2369    1500000.0  2015-01  \n",
       "2370          0.0  2015-01  \n",
       "2371     140000.0  2015-01  "
      ]
     },
     "execution_count": 34,
     "metadata": {},
     "output_type": "execute_result"
    }
   ],
   "source": [
    "newdata.tail(4)"
   ]
  },
  {
   "cell_type": "markdown",
   "metadata": {},
   "source": [
    "#### How does the funding ecosystem change with time ?"
   ]
  },
  {
   "cell_type": "code",
   "execution_count": 35,
   "metadata": {
    "scrolled": true
   },
   "outputs": [
    {
     "data": {
      "text/plain": [
       "[Text(0.5,0,'Investment Count'), Text(0.5,1,'# of Startup Investments ($>0)')]"
      ]
     },
     "execution_count": 35,
     "metadata": {},
     "output_type": "execute_result"
    },
    {
     "data": {
      "image/png": "[encoded data removed]",
      "text/plain": [
       "<Figure size 432x288 with 1 Axes>"
      ]
     },
     "metadata": {},
     "output_type": "display_data"
    }
   ],
   "source": [
    "PosFund_df = newdata.loc[newdata['AmountInUSD'] > 0,['YrMo','AmountInUSD']]\n",
    "fundCountsByMo = PosFund_df['YrMo'].value_counts()\n",
    "FundCounts_df = pd.DataFrame(fundCountsByMo).sort_index()\n",
    "ax = sns.barplot(FundCounts_df.YrMo, FundCounts_df.index, orient=\"h\", color='b')\n",
    "ax.set(xlabel='Investment Count', title='# of Startup Investments ($>0)')\n",
    "#sns.plt.show()"
   ]
  },
  {
   "cell_type": "markdown",
   "metadata": {},
   "source": [
    "#### How does funding change with InvestmentType?"
   ]
  },
  {
   "cell_type": "code",
   "execution_count": 36,
   "metadata": {},
   "outputs": [
    {
     "data": {
      "image/png": "[encoded data removed]",
      "text/plain": [
       "<Figure size 432x288 with 1 Axes>"
      ]
     },
     "metadata": {},
     "output_type": "display_data"
    }
   ],
   "source": [
    "#Make df such that there's an entry for each investment type\n",
    "FundTotal_df = pd.pivot_table(newdata,index=['YrMo'],values=['AmountInUSD'],columns=['InvestmentType'], aggfunc=np.sum, fill_value=0)['AmountInUSD'].reset_index()\n",
    "\n",
    "fig, ax = plt.subplots()\n",
    "ax.plot(FundTotal_df['crowdfunding'], 'b', label='Crowd Funding')\n",
    "ax.plot(FundTotal_df['debtfunding'], 'r', label='Debt Funding')\n",
    "ax.plot(FundTotal_df['seedfunding'], 'k', label='Seed Funding')\n",
    "ax.plot(FundTotal_df['privateequity'], 'g', label='Private Equity')\n",
    "ax.set(xlabel='Months from Jan 2015', ylabel='Investment $M', title='Total $M Invested over time by source type')\n",
    "legend = ax.legend(loc='upper center', shadow=True)\n",
    "plt.show()\n",
    "\n"
   ]
  },
  {
   "cell_type": "code",
   "execution_count": 37,
   "metadata": {},
   "outputs": [
    {
     "data": {
      "image/png": "[encoded data removed]",
      "text/plain": [
       "<Figure size 432x288 with 1 Axes>"
      ]
     },
     "metadata": {},
     "output_type": "display_data"
    }
   ],
   "source": [
    "fig,ax = plt.subplots()\n",
    "ax.plot(FundTotal_df['crowdfunding'], 'b', label='Crowd Funding')\n",
    "ax.plot(FundTotal_df['debtfunding'], 'r', label='Debt Funding')\n",
    "ax.plot(FundTotal_df['seedfunding'], 'k', label='Seed Funding')\n",
    "ax.set(xlabel='Months from Jan 2015', ylabel='Investment $M', title='Total $M Invested over time by source type')\n",
    "legend = ax.legend(loc='upper center', shadow=True)\n",
    "plt.show()"
   ]
  },
  {
   "cell_type": "markdown",
   "metadata": {},
   "source": [
    "#### Do cities play a major role in funding? "
   ]
  },
  {
   "cell_type": "code",
   "execution_count": 38,
   "metadata": {},
   "outputs": [
    {
     "name": "stdout",
     "output_type": "stream",
     "text": [
      "Description count of Location\n",
      "bangalore       635\n",
      "mumbai          449\n",
      "new delhi       385\n",
      "gurgaon         241\n",
      "notspecified    179\n",
      "Name: CityLocation, dtype: int64\n"
     ]
    },
    {
     "data": {
      "image/png": "[encoded data removed]",
      "text/plain": [
       "<Figure size 936x504 with 2 Axes>"
      ]
     },
     "metadata": {},
     "output_type": "display_data"
    }
   ],
   "source": [
    "location = newdata['CityLocation'].value_counts()\n",
    "print(\"Description count of Location\")\n",
    "print(location[:5])\n",
    "\n",
    "plt.figure(figsize=(13,7))\n",
    "\n",
    "plt.subplot(211)\n",
    "sns.barplot(x=location.index[:20], y=location.values[:20])\n",
    "plt.xticks(rotation=45)\n",
    "plt.xlabel('City Location', fontsize=15)\n",
    "plt.ylabel('Startup Count', fontsize=15)\n",
    "plt.title(\"City Location\", fontsize=20)\n",
    "\n",
    "plt.subplot(212)\n",
    "g = sns.boxplot(x='CityLocation', y=\"AmountInUSD\",\n",
    "                data=newdata[newdata.CityLocation.isin(location[:15].index.values)])\n",
    "g.set_xticklabels(g.get_xticklabels(),rotation=90)\n",
    "g.set_title(\"City Localization by Amount LogDistribuition\", fontsize=20)\n",
    "g.set_xlabel(\"Top 15 Citys\", fontsize=15)\n",
    "g.set_ylabel(\"Amount (USD)\", fontsize=15)\n",
    "\n",
    "plt.subplots_adjust(hspace = 0.65,top = 0.9)\n",
    "\n",
    "plt.show()"
   ]
  },
  {
   "cell_type": "markdown",
   "metadata": {},
   "source": [
    "# Feature engineering"
   ]
  },
  {
   "cell_type": "markdown",
   "metadata": {},
   "source": [
    "##### Deleting columns - SNo, Startup Name and Remarks as they do not add any value"
   ]
  },
  {
   "cell_type": "code",
   "execution_count": 39,
   "metadata": {},
   "outputs": [],
   "source": [
    "del newdata['SNo']\n",
    "del newdata['StartupName']"
   ]
  },
  {
   "cell_type": "markdown",
   "metadata": {},
   "source": [
    "As various startups have multiple number of investors, we will have no of investors as seperate column "
   ]
  },
  {
   "cell_type": "code",
   "execution_count": 40,
   "metadata": {},
   "outputs": [],
   "source": [
    "def calculate_n_investors(x):\n",
    "    if  re.search(',',x) and x!='empty':\n",
    "        return len(x.split(','))\n",
    "    elif x!='empty':\n",
    "        return 1\n",
    "    else:\n",
    "        return -1\n",
    "newdata['NumberOfInvestors']=newdata['InvestorsName'].replace(np.NaN,'empty').apply(calculate_n_investors)"
   ]
  },
  {
   "cell_type": "code",
   "execution_count": 41,
   "metadata": {
    "scrolled": true
   },
   "outputs": [
    {
     "data": {
      "text/html": [
       "<div>\n",
       "<style scoped>\n",
       "    .dataframe tbody tr th:only-of-type {\n",
       "        vertical-align: middle;\n",
       "    }\n",
       "\n",
       "    .dataframe tbody tr th {\n",
       "        vertical-align: top;\n",
       "    }\n",
       "\n",
       "    .dataframe thead th {\n",
       "        text-align: right;\n",
       "    }\n",
       "</style>\n",
       "<table border=\"1\" class=\"dataframe\">\n",
       "  <thead>\n",
       "    <tr style=\"text-align: right;\">\n",
       "      <th></th>\n",
       "      <th>Date</th>\n",
       "      <th>IndustryVertical</th>\n",
       "      <th>SubVertical</th>\n",
       "      <th>CityLocation</th>\n",
       "      <th>InvestorsName</th>\n",
       "      <th>InvestmentType</th>\n",
       "      <th>AmountInUSD</th>\n",
       "      <th>YrMo</th>\n",
       "      <th>NumberOfInvestors</th>\n",
       "    </tr>\n",
       "  </thead>\n",
       "  <tbody>\n",
       "    <tr>\n",
       "      <th>0</th>\n",
       "      <td>2017-08-01</td>\n",
       "      <td>Technology</td>\n",
       "      <td>Predictive Care Platform</td>\n",
       "      <td>bangalore</td>\n",
       "      <td>Kae Capital</td>\n",
       "      <td>privateequity</td>\n",
       "      <td>1300000.0</td>\n",
       "      <td>2017-08</td>\n",
       "      <td>1</td>\n",
       "    </tr>\n",
       "    <tr>\n",
       "      <th>1</th>\n",
       "      <td>2017-08-02</td>\n",
       "      <td>Technology</td>\n",
       "      <td>Digital Marketing Agency</td>\n",
       "      <td>mumbai</td>\n",
       "      <td>Triton Investment Advisors</td>\n",
       "      <td>privateequity</td>\n",
       "      <td>0.0</td>\n",
       "      <td>2017-08</td>\n",
       "      <td>1</td>\n",
       "    </tr>\n",
       "    <tr>\n",
       "      <th>2</th>\n",
       "      <td>2017-08-02</td>\n",
       "      <td>Consumer Internet</td>\n",
       "      <td>Online platform for Higher Education Services</td>\n",
       "      <td>new delhi</td>\n",
       "      <td>Kashyap Deorah, Anand Sankeshwar, Deepak Jain,...</td>\n",
       "      <td>seedfunding</td>\n",
       "      <td>0.0</td>\n",
       "      <td>2017-08</td>\n",
       "      <td>7</td>\n",
       "    </tr>\n",
       "    <tr>\n",
       "      <th>3</th>\n",
       "      <td>2017-08-02</td>\n",
       "      <td>Consumer Internet</td>\n",
       "      <td>DIY Ecommerce platform</td>\n",
       "      <td>mumbai</td>\n",
       "      <td>Kunal Shah, LetsVenture, Anupam Mittal, Hetal ...</td>\n",
       "      <td>seedfunding</td>\n",
       "      <td>500000.0</td>\n",
       "      <td>2017-08</td>\n",
       "      <td>4</td>\n",
       "    </tr>\n",
       "  </tbody>\n",
       "</table>\n",
       "</div>"
      ],
      "text/plain": [
       "        Date   IndustryVertical  \\\n",
       "0 2017-08-01         Technology   \n",
       "1 2017-08-02         Technology   \n",
       "2 2017-08-02  Consumer Internet   \n",
       "3 2017-08-02  Consumer Internet   \n",
       "\n",
       "                                     SubVertical CityLocation  \\\n",
       "0                       Predictive Care Platform    bangalore   \n",
       "1                       Digital Marketing Agency       mumbai   \n",
       "2  Online platform for Higher Education Services    new delhi   \n",
       "3                         DIY Ecommerce platform       mumbai   \n",
       "\n",
       "                                       InvestorsName InvestmentType  \\\n",
       "0                                        Kae Capital  privateequity   \n",
       "1                         Triton Investment Advisors  privateequity   \n",
       "2  Kashyap Deorah, Anand Sankeshwar, Deepak Jain,...    seedfunding   \n",
       "3  Kunal Shah, LetsVenture, Anupam Mittal, Hetal ...    seedfunding   \n",
       "\n",
       "   AmountInUSD     YrMo  NumberOfInvestors  \n",
       "0    1300000.0  2017-08                  1  \n",
       "1          0.0  2017-08                  1  \n",
       "2          0.0  2017-08                  7  \n",
       "3     500000.0  2017-08                  4  "
      ]
     },
     "execution_count": 41,
     "metadata": {},
     "output_type": "execute_result"
    }
   ],
   "source": [
    "newdata.head(4)"
   ]
  },
  {
   "cell_type": "code",
   "execution_count": 42,
   "metadata": {},
   "outputs": [],
   "source": [
    "newdata['Year'] = [str(x.year) for x in newdata['Date']]"
   ]
  },
  {
   "cell_type": "code",
   "execution_count": 43,
   "metadata": {},
   "outputs": [
    {
     "data": {
      "text/html": [
       "<div>\n",
       "<style scoped>\n",
       "    .dataframe tbody tr th:only-of-type {\n",
       "        vertical-align: middle;\n",
       "    }\n",
       "\n",
       "    .dataframe tbody tr th {\n",
       "        vertical-align: top;\n",
       "    }\n",
       "\n",
       "    .dataframe thead th {\n",
       "        text-align: right;\n",
       "    }\n",
       "</style>\n",
       "<table border=\"1\" class=\"dataframe\">\n",
       "  <thead>\n",
       "    <tr style=\"text-align: right;\">\n",
       "      <th></th>\n",
       "      <th>Date</th>\n",
       "      <th>IndustryVertical</th>\n",
       "      <th>SubVertical</th>\n",
       "      <th>CityLocation</th>\n",
       "      <th>InvestorsName</th>\n",
       "      <th>InvestmentType</th>\n",
       "      <th>AmountInUSD</th>\n",
       "      <th>YrMo</th>\n",
       "      <th>NumberOfInvestors</th>\n",
       "      <th>Year</th>\n",
       "    </tr>\n",
       "  </thead>\n",
       "  <tbody>\n",
       "    <tr>\n",
       "      <th>0</th>\n",
       "      <td>2017-08-01</td>\n",
       "      <td>Technology</td>\n",
       "      <td>Predictive Care Platform</td>\n",
       "      <td>bangalore</td>\n",
       "      <td>Kae Capital</td>\n",
       "      <td>privateequity</td>\n",
       "      <td>1300000.0</td>\n",
       "      <td>2017-08</td>\n",
       "      <td>1</td>\n",
       "      <td>2017</td>\n",
       "    </tr>\n",
       "    <tr>\n",
       "      <th>1</th>\n",
       "      <td>2017-08-02</td>\n",
       "      <td>Technology</td>\n",
       "      <td>Digital Marketing Agency</td>\n",
       "      <td>mumbai</td>\n",
       "      <td>Triton Investment Advisors</td>\n",
       "      <td>privateequity</td>\n",
       "      <td>0.0</td>\n",
       "      <td>2017-08</td>\n",
       "      <td>1</td>\n",
       "      <td>2017</td>\n",
       "    </tr>\n",
       "    <tr>\n",
       "      <th>2</th>\n",
       "      <td>2017-08-02</td>\n",
       "      <td>Consumer Internet</td>\n",
       "      <td>Online platform for Higher Education Services</td>\n",
       "      <td>new delhi</td>\n",
       "      <td>Kashyap Deorah, Anand Sankeshwar, Deepak Jain,...</td>\n",
       "      <td>seedfunding</td>\n",
       "      <td>0.0</td>\n",
       "      <td>2017-08</td>\n",
       "      <td>7</td>\n",
       "      <td>2017</td>\n",
       "    </tr>\n",
       "    <tr>\n",
       "      <th>3</th>\n",
       "      <td>2017-08-02</td>\n",
       "      <td>Consumer Internet</td>\n",
       "      <td>DIY Ecommerce platform</td>\n",
       "      <td>mumbai</td>\n",
       "      <td>Kunal Shah, LetsVenture, Anupam Mittal, Hetal ...</td>\n",
       "      <td>seedfunding</td>\n",
       "      <td>500000.0</td>\n",
       "      <td>2017-08</td>\n",
       "      <td>4</td>\n",
       "      <td>2017</td>\n",
       "    </tr>\n",
       "  </tbody>\n",
       "</table>\n",
       "</div>"
      ],
      "text/plain": [
       "        Date   IndustryVertical  \\\n",
       "0 2017-08-01         Technology   \n",
       "1 2017-08-02         Technology   \n",
       "2 2017-08-02  Consumer Internet   \n",
       "3 2017-08-02  Consumer Internet   \n",
       "\n",
       "                                     SubVertical CityLocation  \\\n",
       "0                       Predictive Care Platform    bangalore   \n",
       "1                       Digital Marketing Agency       mumbai   \n",
       "2  Online platform for Higher Education Services    new delhi   \n",
       "3                         DIY Ecommerce platform       mumbai   \n",
       "\n",
       "                                       InvestorsName InvestmentType  \\\n",
       "0                                        Kae Capital  privateequity   \n",
       "1                         Triton Investment Advisors  privateequity   \n",
       "2  Kashyap Deorah, Anand Sankeshwar, Deepak Jain,...    seedfunding   \n",
       "3  Kunal Shah, LetsVenture, Anupam Mittal, Hetal ...    seedfunding   \n",
       "\n",
       "   AmountInUSD     YrMo  NumberOfInvestors  Year  \n",
       "0    1300000.0  2017-08                  1  2017  \n",
       "1          0.0  2017-08                  1  2017  \n",
       "2          0.0  2017-08                  7  2017  \n",
       "3     500000.0  2017-08                  4  2017  "
      ]
     },
     "execution_count": 43,
     "metadata": {},
     "output_type": "execute_result"
    }
   ],
   "source": [
    "newdata.head(4)"
   ]
  },
  {
   "cell_type": "code",
   "execution_count": 44,
   "metadata": {},
   "outputs": [],
   "source": [
    "newdata['Month'] = [str(x.month) for x in newdata['Date']]"
   ]
  },
  {
   "cell_type": "code",
   "execution_count": 45,
   "metadata": {},
   "outputs": [
    {
     "data": {
      "text/html": [
       "<div>\n",
       "<style scoped>\n",
       "    .dataframe tbody tr th:only-of-type {\n",
       "        vertical-align: middle;\n",
       "    }\n",
       "\n",
       "    .dataframe tbody tr th {\n",
       "        vertical-align: top;\n",
       "    }\n",
       "\n",
       "    .dataframe thead th {\n",
       "        text-align: right;\n",
       "    }\n",
       "</style>\n",
       "<table border=\"1\" class=\"dataframe\">\n",
       "  <thead>\n",
       "    <tr style=\"text-align: right;\">\n",
       "      <th></th>\n",
       "      <th>Date</th>\n",
       "      <th>IndustryVertical</th>\n",
       "      <th>SubVertical</th>\n",
       "      <th>CityLocation</th>\n",
       "      <th>InvestorsName</th>\n",
       "      <th>InvestmentType</th>\n",
       "      <th>AmountInUSD</th>\n",
       "      <th>YrMo</th>\n",
       "      <th>NumberOfInvestors</th>\n",
       "      <th>Year</th>\n",
       "      <th>Month</th>\n",
       "    </tr>\n",
       "  </thead>\n",
       "  <tbody>\n",
       "    <tr>\n",
       "      <th>0</th>\n",
       "      <td>2017-08-01</td>\n",
       "      <td>Technology</td>\n",
       "      <td>Predictive Care Platform</td>\n",
       "      <td>bangalore</td>\n",
       "      <td>Kae Capital</td>\n",
       "      <td>privateequity</td>\n",
       "      <td>1300000.0</td>\n",
       "      <td>2017-08</td>\n",
       "      <td>1</td>\n",
       "      <td>2017</td>\n",
       "      <td>8</td>\n",
       "    </tr>\n",
       "    <tr>\n",
       "      <th>1</th>\n",
       "      <td>2017-08-02</td>\n",
       "      <td>Technology</td>\n",
       "      <td>Digital Marketing Agency</td>\n",
       "      <td>mumbai</td>\n",
       "      <td>Triton Investment Advisors</td>\n",
       "      <td>privateequity</td>\n",
       "      <td>0.0</td>\n",
       "      <td>2017-08</td>\n",
       "      <td>1</td>\n",
       "      <td>2017</td>\n",
       "      <td>8</td>\n",
       "    </tr>\n",
       "    <tr>\n",
       "      <th>2</th>\n",
       "      <td>2017-08-02</td>\n",
       "      <td>Consumer Internet</td>\n",
       "      <td>Online platform for Higher Education Services</td>\n",
       "      <td>new delhi</td>\n",
       "      <td>Kashyap Deorah, Anand Sankeshwar, Deepak Jain,...</td>\n",
       "      <td>seedfunding</td>\n",
       "      <td>0.0</td>\n",
       "      <td>2017-08</td>\n",
       "      <td>7</td>\n",
       "      <td>2017</td>\n",
       "      <td>8</td>\n",
       "    </tr>\n",
       "    <tr>\n",
       "      <th>3</th>\n",
       "      <td>2017-08-02</td>\n",
       "      <td>Consumer Internet</td>\n",
       "      <td>DIY Ecommerce platform</td>\n",
       "      <td>mumbai</td>\n",
       "      <td>Kunal Shah, LetsVenture, Anupam Mittal, Hetal ...</td>\n",
       "      <td>seedfunding</td>\n",
       "      <td>500000.0</td>\n",
       "      <td>2017-08</td>\n",
       "      <td>4</td>\n",
       "      <td>2017</td>\n",
       "      <td>8</td>\n",
       "    </tr>\n",
       "  </tbody>\n",
       "</table>\n",
       "</div>"
      ],
      "text/plain": [
       "        Date   IndustryVertical  \\\n",
       "0 2017-08-01         Technology   \n",
       "1 2017-08-02         Technology   \n",
       "2 2017-08-02  Consumer Internet   \n",
       "3 2017-08-02  Consumer Internet   \n",
       "\n",
       "                                     SubVertical CityLocation  \\\n",
       "0                       Predictive Care Platform    bangalore   \n",
       "1                       Digital Marketing Agency       mumbai   \n",
       "2  Online platform for Higher Education Services    new delhi   \n",
       "3                         DIY Ecommerce platform       mumbai   \n",
       "\n",
       "                                       InvestorsName InvestmentType  \\\n",
       "0                                        Kae Capital  privateequity   \n",
       "1                         Triton Investment Advisors  privateequity   \n",
       "2  Kashyap Deorah, Anand Sankeshwar, Deepak Jain,...    seedfunding   \n",
       "3  Kunal Shah, LetsVenture, Anupam Mittal, Hetal ...    seedfunding   \n",
       "\n",
       "   AmountInUSD     YrMo  NumberOfInvestors  Year Month  \n",
       "0    1300000.0  2017-08                  1  2017     8  \n",
       "1          0.0  2017-08                  1  2017     8  \n",
       "2          0.0  2017-08                  7  2017     8  \n",
       "3     500000.0  2017-08                  4  2017     8  "
      ]
     },
     "execution_count": 45,
     "metadata": {},
     "output_type": "execute_result"
    }
   ],
   "source": [
    "newdata.head(4)"
   ]
  },
  {
   "cell_type": "code",
   "execution_count": 46,
   "metadata": {},
   "outputs": [],
   "source": [
    "#Using One-hot encoding for Investment Type\n",
    "newdata = pd.get_dummies(newdata, columns=['InvestmentType'], prefix = ['InvestmentType'])"
   ]
  },
  {
   "cell_type": "code",
   "execution_count": 47,
   "metadata": {},
   "outputs": [
    {
     "data": {
      "text/html": [
       "<div>\n",
       "<style scoped>\n",
       "    .dataframe tbody tr th:only-of-type {\n",
       "        vertical-align: middle;\n",
       "    }\n",
       "\n",
       "    .dataframe tbody tr th {\n",
       "        vertical-align: top;\n",
       "    }\n",
       "\n",
       "    .dataframe thead th {\n",
       "        text-align: right;\n",
       "    }\n",
       "</style>\n",
       "<table border=\"1\" class=\"dataframe\">\n",
       "  <thead>\n",
       "    <tr style=\"text-align: right;\">\n",
       "      <th></th>\n",
       "      <th>Date</th>\n",
       "      <th>IndustryVertical</th>\n",
       "      <th>SubVertical</th>\n",
       "      <th>CityLocation</th>\n",
       "      <th>InvestorsName</th>\n",
       "      <th>AmountInUSD</th>\n",
       "      <th>YrMo</th>\n",
       "      <th>NumberOfInvestors</th>\n",
       "      <th>Year</th>\n",
       "      <th>Month</th>\n",
       "      <th>InvestmentType_crowdfunding</th>\n",
       "      <th>InvestmentType_debtfunding</th>\n",
       "      <th>InvestmentType_privateequity</th>\n",
       "      <th>InvestmentType_seedfunding</th>\n",
       "    </tr>\n",
       "  </thead>\n",
       "  <tbody>\n",
       "    <tr>\n",
       "      <th>2368</th>\n",
       "      <td>2015-01-29</td>\n",
       "      <td>Other</td>\n",
       "      <td>Other</td>\n",
       "      <td>notspecified</td>\n",
       "      <td>KARSEMVEN Fund</td>\n",
       "      <td>825000.0</td>\n",
       "      <td>2015-01</td>\n",
       "      <td>1</td>\n",
       "      <td>2015</td>\n",
       "      <td>1</td>\n",
       "      <td>0</td>\n",
       "      <td>0</td>\n",
       "      <td>1</td>\n",
       "      <td>0</td>\n",
       "    </tr>\n",
       "    <tr>\n",
       "      <th>2369</th>\n",
       "      <td>2015-01-30</td>\n",
       "      <td>Other</td>\n",
       "      <td>Other</td>\n",
       "      <td>notspecified</td>\n",
       "      <td>Exfinity Fund, GrowX Ventures.</td>\n",
       "      <td>1500000.0</td>\n",
       "      <td>2015-01</td>\n",
       "      <td>2</td>\n",
       "      <td>2015</td>\n",
       "      <td>1</td>\n",
       "      <td>0</td>\n",
       "      <td>0</td>\n",
       "      <td>1</td>\n",
       "      <td>0</td>\n",
       "    </tr>\n",
       "    <tr>\n",
       "      <th>2370</th>\n",
       "      <td>2015-01-30</td>\n",
       "      <td>Other</td>\n",
       "      <td>Other</td>\n",
       "      <td>notspecified</td>\n",
       "      <td>MakeMyTrip</td>\n",
       "      <td>0.0</td>\n",
       "      <td>2015-01</td>\n",
       "      <td>1</td>\n",
       "      <td>2015</td>\n",
       "      <td>1</td>\n",
       "      <td>0</td>\n",
       "      <td>0</td>\n",
       "      <td>1</td>\n",
       "      <td>0</td>\n",
       "    </tr>\n",
       "    <tr>\n",
       "      <th>2371</th>\n",
       "      <td>2015-01-31</td>\n",
       "      <td>Other</td>\n",
       "      <td>Other</td>\n",
       "      <td>notspecified</td>\n",
       "      <td>UK based Group of Angel Investors</td>\n",
       "      <td>140000.0</td>\n",
       "      <td>2015-01</td>\n",
       "      <td>1</td>\n",
       "      <td>2015</td>\n",
       "      <td>1</td>\n",
       "      <td>0</td>\n",
       "      <td>0</td>\n",
       "      <td>0</td>\n",
       "      <td>1</td>\n",
       "    </tr>\n",
       "  </tbody>\n",
       "</table>\n",
       "</div>"
      ],
      "text/plain": [
       "           Date IndustryVertical SubVertical  CityLocation  \\\n",
       "2368 2015-01-29            Other       Other  notspecified   \n",
       "2369 2015-01-30            Other       Other  notspecified   \n",
       "2370 2015-01-30            Other       Other  notspecified   \n",
       "2371 2015-01-31            Other       Other  notspecified   \n",
       "\n",
       "                          InvestorsName  AmountInUSD     YrMo  \\\n",
       "2368                     KARSEMVEN Fund     825000.0  2015-01   \n",
       "2369     Exfinity Fund, GrowX Ventures.    1500000.0  2015-01   \n",
       "2370                         MakeMyTrip          0.0  2015-01   \n",
       "2371  UK based Group of Angel Investors     140000.0  2015-01   \n",
       "\n",
       "      NumberOfInvestors  Year Month  InvestmentType_crowdfunding  \\\n",
       "2368                  1  2015     1                            0   \n",
       "2369                  2  2015     1                            0   \n",
       "2370                  1  2015     1                            0   \n",
       "2371                  1  2015     1                            0   \n",
       "\n",
       "      InvestmentType_debtfunding  InvestmentType_privateequity  \\\n",
       "2368                           0                             1   \n",
       "2369                           0                             1   \n",
       "2370                           0                             1   \n",
       "2371                           0                             0   \n",
       "\n",
       "      InvestmentType_seedfunding  \n",
       "2368                           0  \n",
       "2369                           0  \n",
       "2370                           0  \n",
       "2371                           1  "
      ]
     },
     "execution_count": 47,
     "metadata": {},
     "output_type": "execute_result"
    }
   ],
   "source": [
    "newdata.tail(4)"
   ]
  },
  {
   "cell_type": "markdown",
   "metadata": {},
   "source": [
    "# Feature selection"
   ]
  },
  {
   "cell_type": "code",
   "execution_count": 48,
   "metadata": {},
   "outputs": [],
   "source": [
    "newdata['AmountGreaterThanMillion'] = newdata['AmountInUSD'].apply(lambda x: 1 if x >= 1000000 else 0)\n",
    "Y = newdata['AmountGreaterThanMillion']\n",
    "\n",
    "X = newdata.drop(['AmountInUSD', 'Date', 'InvestorsName', 'SubVertical', 'YrMo'], axis=1)\n",
    "X = pd.get_dummies(X, columns=['IndustryVertical'], prefix = ['IndustryVertical'])\n",
    "X = pd.get_dummies(X, columns=['CityLocation'], prefix = ['CityLocation'])"
   ]
  },
  {
   "cell_type": "code",
   "execution_count": 49,
   "metadata": {},
   "outputs": [
    {
     "data": {
      "text/html": [
       "<div>\n",
       "<style scoped>\n",
       "    .dataframe tbody tr th:only-of-type {\n",
       "        vertical-align: middle;\n",
       "    }\n",
       "\n",
       "    .dataframe tbody tr th {\n",
       "        vertical-align: top;\n",
       "    }\n",
       "\n",
       "    .dataframe thead th {\n",
       "        text-align: right;\n",
       "    }\n",
       "</style>\n",
       "<table border=\"1\" class=\"dataframe\">\n",
       "  <thead>\n",
       "    <tr style=\"text-align: right;\">\n",
       "      <th></th>\n",
       "      <th>NumberOfInvestors</th>\n",
       "      <th>Year</th>\n",
       "      <th>Month</th>\n",
       "      <th>InvestmentType_crowdfunding</th>\n",
       "      <th>InvestmentType_debtfunding</th>\n",
       "      <th>InvestmentType_privateequity</th>\n",
       "      <th>InvestmentType_seedfunding</th>\n",
       "      <th>AmountGreaterThanMillion</th>\n",
       "      <th>IndustryVertical_360-degree view creating platform</th>\n",
       "      <th>IndustryVertical_3D Printer Manufacturer</th>\n",
       "      <th>...</th>\n",
       "      <th>CityLocation_siliguri</th>\n",
       "      <th>CityLocation_singapore</th>\n",
       "      <th>CityLocation_surat</th>\n",
       "      <th>CityLocation_trivandrum</th>\n",
       "      <th>CityLocation_udaipur</th>\n",
       "      <th>CityLocation_udupi</th>\n",
       "      <th>CityLocation_us</th>\n",
       "      <th>CityLocation_usa</th>\n",
       "      <th>CityLocation_vadodara</th>\n",
       "      <th>CityLocation_varanasi</th>\n",
       "    </tr>\n",
       "  </thead>\n",
       "  <tbody>\n",
       "    <tr>\n",
       "      <th>0</th>\n",
       "      <td>1</td>\n",
       "      <td>2017</td>\n",
       "      <td>8</td>\n",
       "      <td>0</td>\n",
       "      <td>0</td>\n",
       "      <td>1</td>\n",
       "      <td>0</td>\n",
       "      <td>1</td>\n",
       "      <td>0</td>\n",
       "      <td>0</td>\n",
       "      <td>...</td>\n",
       "      <td>0</td>\n",
       "      <td>0</td>\n",
       "      <td>0</td>\n",
       "      <td>0</td>\n",
       "      <td>0</td>\n",
       "      <td>0</td>\n",
       "      <td>0</td>\n",
       "      <td>0</td>\n",
       "      <td>0</td>\n",
       "      <td>0</td>\n",
       "    </tr>\n",
       "    <tr>\n",
       "      <th>1</th>\n",
       "      <td>1</td>\n",
       "      <td>2017</td>\n",
       "      <td>8</td>\n",
       "      <td>0</td>\n",
       "      <td>0</td>\n",
       "      <td>1</td>\n",
       "      <td>0</td>\n",
       "      <td>0</td>\n",
       "      <td>0</td>\n",
       "      <td>0</td>\n",
       "      <td>...</td>\n",
       "      <td>0</td>\n",
       "      <td>0</td>\n",
       "      <td>0</td>\n",
       "      <td>0</td>\n",
       "      <td>0</td>\n",
       "      <td>0</td>\n",
       "      <td>0</td>\n",
       "      <td>0</td>\n",
       "      <td>0</td>\n",
       "      <td>0</td>\n",
       "    </tr>\n",
       "    <tr>\n",
       "      <th>2</th>\n",
       "      <td>7</td>\n",
       "      <td>2017</td>\n",
       "      <td>8</td>\n",
       "      <td>0</td>\n",
       "      <td>0</td>\n",
       "      <td>0</td>\n",
       "      <td>1</td>\n",
       "      <td>0</td>\n",
       "      <td>0</td>\n",
       "      <td>0</td>\n",
       "      <td>...</td>\n",
       "      <td>0</td>\n",
       "      <td>0</td>\n",
       "      <td>0</td>\n",
       "      <td>0</td>\n",
       "      <td>0</td>\n",
       "      <td>0</td>\n",
       "      <td>0</td>\n",
       "      <td>0</td>\n",
       "      <td>0</td>\n",
       "      <td>0</td>\n",
       "    </tr>\n",
       "    <tr>\n",
       "      <th>3</th>\n",
       "      <td>4</td>\n",
       "      <td>2017</td>\n",
       "      <td>8</td>\n",
       "      <td>0</td>\n",
       "      <td>0</td>\n",
       "      <td>0</td>\n",
       "      <td>1</td>\n",
       "      <td>0</td>\n",
       "      <td>0</td>\n",
       "      <td>0</td>\n",
       "      <td>...</td>\n",
       "      <td>0</td>\n",
       "      <td>0</td>\n",
       "      <td>0</td>\n",
       "      <td>0</td>\n",
       "      <td>0</td>\n",
       "      <td>0</td>\n",
       "      <td>0</td>\n",
       "      <td>0</td>\n",
       "      <td>0</td>\n",
       "      <td>0</td>\n",
       "    </tr>\n",
       "    <tr>\n",
       "      <th>4</th>\n",
       "      <td>2</td>\n",
       "      <td>2017</td>\n",
       "      <td>8</td>\n",
       "      <td>0</td>\n",
       "      <td>0</td>\n",
       "      <td>0</td>\n",
       "      <td>1</td>\n",
       "      <td>0</td>\n",
       "      <td>0</td>\n",
       "      <td>0</td>\n",
       "      <td>...</td>\n",
       "      <td>0</td>\n",
       "      <td>0</td>\n",
       "      <td>0</td>\n",
       "      <td>0</td>\n",
       "      <td>0</td>\n",
       "      <td>0</td>\n",
       "      <td>0</td>\n",
       "      <td>0</td>\n",
       "      <td>0</td>\n",
       "      <td>0</td>\n",
       "    </tr>\n",
       "  </tbody>\n",
       "</table>\n",
       "<p>5 rows × 801 columns</p>\n",
       "</div>"
      ],
      "text/plain": [
       "   NumberOfInvestors  Year Month  InvestmentType_crowdfunding  \\\n",
       "0                  1  2017     8                            0   \n",
       "1                  1  2017     8                            0   \n",
       "2                  7  2017     8                            0   \n",
       "3                  4  2017     8                            0   \n",
       "4                  2  2017     8                            0   \n",
       "\n",
       "   InvestmentType_debtfunding  InvestmentType_privateequity  \\\n",
       "0                           0                             1   \n",
       "1                           0                             1   \n",
       "2                           0                             0   \n",
       "3                           0                             0   \n",
       "4                           0                             0   \n",
       "\n",
       "   InvestmentType_seedfunding  AmountGreaterThanMillion  \\\n",
       "0                           0                         1   \n",
       "1                           0                         0   \n",
       "2                           1                         0   \n",
       "3                           1                         0   \n",
       "4                           1                         0   \n",
       "\n",
       "   IndustryVertical_360-degree view creating platform  \\\n",
       "0                                                  0    \n",
       "1                                                  0    \n",
       "2                                                  0    \n",
       "3                                                  0    \n",
       "4                                                  0    \n",
       "\n",
       "   IndustryVertical_3D Printer Manufacturer          ...            \\\n",
       "0                                         0          ...             \n",
       "1                                         0          ...             \n",
       "2                                         0          ...             \n",
       "3                                         0          ...             \n",
       "4                                         0          ...             \n",
       "\n",
       "   CityLocation_siliguri  CityLocation_singapore  CityLocation_surat  \\\n",
       "0                      0                       0                   0   \n",
       "1                      0                       0                   0   \n",
       "2                      0                       0                   0   \n",
       "3                      0                       0                   0   \n",
       "4                      0                       0                   0   \n",
       "\n",
       "   CityLocation_trivandrum  CityLocation_udaipur  CityLocation_udupi  \\\n",
       "0                        0                     0                   0   \n",
       "1                        0                     0                   0   \n",
       "2                        0                     0                   0   \n",
       "3                        0                     0                   0   \n",
       "4                        0                     0                   0   \n",
       "\n",
       "   CityLocation_us  CityLocation_usa  CityLocation_vadodara  \\\n",
       "0                0                 0                      0   \n",
       "1                0                 0                      0   \n",
       "2                0                 0                      0   \n",
       "3                0                 0                      0   \n",
       "4                0                 0                      0   \n",
       "\n",
       "   CityLocation_varanasi  \n",
       "0                      0  \n",
       "1                      0  \n",
       "2                      0  \n",
       "3                      0  \n",
       "4                      0  \n",
       "\n",
       "[5 rows x 801 columns]"
      ]
     },
     "execution_count": 49,
     "metadata": {},
     "output_type": "execute_result"
    }
   ],
   "source": [
    "X.head()"
   ]
  },
  {
   "cell_type": "code",
   "execution_count": 50,
   "metadata": {},
   "outputs": [
    {
     "data": {
      "text/html": [
       "<div>\n",
       "<style scoped>\n",
       "    .dataframe tbody tr th:only-of-type {\n",
       "        vertical-align: middle;\n",
       "    }\n",
       "\n",
       "    .dataframe tbody tr th {\n",
       "        vertical-align: top;\n",
       "    }\n",
       "\n",
       "    .dataframe thead th {\n",
       "        text-align: right;\n",
       "    }\n",
       "</style>\n",
       "<table border=\"1\" class=\"dataframe\">\n",
       "  <thead>\n",
       "    <tr style=\"text-align: right;\">\n",
       "      <th></th>\n",
       "      <th>NumberOfInvestors</th>\n",
       "      <th>Year</th>\n",
       "      <th>Month</th>\n",
       "      <th>InvestmentType_crowdfunding</th>\n",
       "      <th>InvestmentType_debtfunding</th>\n",
       "      <th>InvestmentType_privateequity</th>\n",
       "      <th>InvestmentType_seedfunding</th>\n",
       "      <th>AmountGreaterThanMillion</th>\n",
       "      <th>IndustryVertical_360-degree view creating platform</th>\n",
       "      <th>IndustryVertical_3D Printer Manufacturer</th>\n",
       "      <th>...</th>\n",
       "      <th>CityLocation_siliguri</th>\n",
       "      <th>CityLocation_singapore</th>\n",
       "      <th>CityLocation_surat</th>\n",
       "      <th>CityLocation_trivandrum</th>\n",
       "      <th>CityLocation_udaipur</th>\n",
       "      <th>CityLocation_udupi</th>\n",
       "      <th>CityLocation_us</th>\n",
       "      <th>CityLocation_usa</th>\n",
       "      <th>CityLocation_vadodara</th>\n",
       "      <th>CityLocation_varanasi</th>\n",
       "    </tr>\n",
       "  </thead>\n",
       "  <tbody>\n",
       "    <tr>\n",
       "      <th>2368</th>\n",
       "      <td>1</td>\n",
       "      <td>2015</td>\n",
       "      <td>1</td>\n",
       "      <td>0</td>\n",
       "      <td>0</td>\n",
       "      <td>1</td>\n",
       "      <td>0</td>\n",
       "      <td>0</td>\n",
       "      <td>0</td>\n",
       "      <td>0</td>\n",
       "      <td>...</td>\n",
       "      <td>0</td>\n",
       "      <td>0</td>\n",
       "      <td>0</td>\n",
       "      <td>0</td>\n",
       "      <td>0</td>\n",
       "      <td>0</td>\n",
       "      <td>0</td>\n",
       "      <td>0</td>\n",
       "      <td>0</td>\n",
       "      <td>0</td>\n",
       "    </tr>\n",
       "    <tr>\n",
       "      <th>2369</th>\n",
       "      <td>2</td>\n",
       "      <td>2015</td>\n",
       "      <td>1</td>\n",
       "      <td>0</td>\n",
       "      <td>0</td>\n",
       "      <td>1</td>\n",
       "      <td>0</td>\n",
       "      <td>1</td>\n",
       "      <td>0</td>\n",
       "      <td>0</td>\n",
       "      <td>...</td>\n",
       "      <td>0</td>\n",
       "      <td>0</td>\n",
       "      <td>0</td>\n",
       "      <td>0</td>\n",
       "      <td>0</td>\n",
       "      <td>0</td>\n",
       "      <td>0</td>\n",
       "      <td>0</td>\n",
       "      <td>0</td>\n",
       "      <td>0</td>\n",
       "    </tr>\n",
       "    <tr>\n",
       "      <th>2370</th>\n",
       "      <td>1</td>\n",
       "      <td>2015</td>\n",
       "      <td>1</td>\n",
       "      <td>0</td>\n",
       "      <td>0</td>\n",
       "      <td>1</td>\n",
       "      <td>0</td>\n",
       "      <td>0</td>\n",
       "      <td>0</td>\n",
       "      <td>0</td>\n",
       "      <td>...</td>\n",
       "      <td>0</td>\n",
       "      <td>0</td>\n",
       "      <td>0</td>\n",
       "      <td>0</td>\n",
       "      <td>0</td>\n",
       "      <td>0</td>\n",
       "      <td>0</td>\n",
       "      <td>0</td>\n",
       "      <td>0</td>\n",
       "      <td>0</td>\n",
       "    </tr>\n",
       "    <tr>\n",
       "      <th>2371</th>\n",
       "      <td>1</td>\n",
       "      <td>2015</td>\n",
       "      <td>1</td>\n",
       "      <td>0</td>\n",
       "      <td>0</td>\n",
       "      <td>0</td>\n",
       "      <td>1</td>\n",
       "      <td>0</td>\n",
       "      <td>0</td>\n",
       "      <td>0</td>\n",
       "      <td>...</td>\n",
       "      <td>0</td>\n",
       "      <td>0</td>\n",
       "      <td>0</td>\n",
       "      <td>0</td>\n",
       "      <td>0</td>\n",
       "      <td>0</td>\n",
       "      <td>0</td>\n",
       "      <td>0</td>\n",
       "      <td>0</td>\n",
       "      <td>0</td>\n",
       "    </tr>\n",
       "  </tbody>\n",
       "</table>\n",
       "<p>4 rows × 801 columns</p>\n",
       "</div>"
      ],
      "text/plain": [
       "      NumberOfInvestors  Year Month  InvestmentType_crowdfunding  \\\n",
       "2368                  1  2015     1                            0   \n",
       "2369                  2  2015     1                            0   \n",
       "2370                  1  2015     1                            0   \n",
       "2371                  1  2015     1                            0   \n",
       "\n",
       "      InvestmentType_debtfunding  InvestmentType_privateequity  \\\n",
       "2368                           0                             1   \n",
       "2369                           0                             1   \n",
       "2370                           0                             1   \n",
       "2371                           0                             0   \n",
       "\n",
       "      InvestmentType_seedfunding  AmountGreaterThanMillion  \\\n",
       "2368                           0                         0   \n",
       "2369                           0                         1   \n",
       "2370                           0                         0   \n",
       "2371                           1                         0   \n",
       "\n",
       "      IndustryVertical_360-degree view creating platform  \\\n",
       "2368                                                  0    \n",
       "2369                                                  0    \n",
       "2370                                                  0    \n",
       "2371                                                  0    \n",
       "\n",
       "      IndustryVertical_3D Printer Manufacturer          ...            \\\n",
       "2368                                         0          ...             \n",
       "2369                                         0          ...             \n",
       "2370                                         0          ...             \n",
       "2371                                         0          ...             \n",
       "\n",
       "      CityLocation_siliguri  CityLocation_singapore  CityLocation_surat  \\\n",
       "2368                      0                       0                   0   \n",
       "2369                      0                       0                   0   \n",
       "2370                      0                       0                   0   \n",
       "2371                      0                       0                   0   \n",
       "\n",
       "      CityLocation_trivandrum  CityLocation_udaipur  CityLocation_udupi  \\\n",
       "2368                        0                     0                   0   \n",
       "2369                        0                     0                   0   \n",
       "2370                        0                     0                   0   \n",
       "2371                        0                     0                   0   \n",
       "\n",
       "      CityLocation_us  CityLocation_usa  CityLocation_vadodara  \\\n",
       "2368                0                 0                      0   \n",
       "2369                0                 0                      0   \n",
       "2370                0                 0                      0   \n",
       "2371                0                 0                      0   \n",
       "\n",
       "      CityLocation_varanasi  \n",
       "2368                      0  \n",
       "2369                      0  \n",
       "2370                      0  \n",
       "2371                      0  \n",
       "\n",
       "[4 rows x 801 columns]"
      ]
     },
     "execution_count": 50,
     "metadata": {},
     "output_type": "execute_result"
    }
   ],
   "source": [
    "X.tail(4)"
   ]
  },
  {
   "cell_type": "code",
   "execution_count": 51,
   "metadata": {},
   "outputs": [
    {
     "data": {
      "text/plain": [
       "2368    0\n",
       "2369    1\n",
       "2370    0\n",
       "2371    0\n",
       "Name: AmountGreaterThanMillion, dtype: int64"
      ]
     },
     "execution_count": 51,
     "metadata": {},
     "output_type": "execute_result"
    }
   ],
   "source": [
    "Y.tail(4)"
   ]
  },
  {
   "cell_type": "markdown",
   "metadata": {},
   "source": [
    "# Modelling"
   ]
  },
  {
   "cell_type": "markdown",
   "metadata": {},
   "source": [
    "#### To train and test, we are dividing the datasets into tain and test datasets"
   ]
  },
  {
   "cell_type": "code",
   "execution_count": 52,
   "metadata": {},
   "outputs": [
    {
     "name": "stderr",
     "output_type": "stream",
     "text": [
      "/anaconda3/lib/python3.6/site-packages/sklearn/cross_validation.py:41: DeprecationWarning: This module was deprecated in version 0.18 in favor of the model_selection module into which all the refactored classes and functions are moved. Also note that the interface of the new CV iterators are different from that of this module. This module will be removed in 0.20.\n",
      "  \"This module will be removed in 0.20.\", DeprecationWarning)\n"
     ]
    }
   ],
   "source": [
    "from sklearn.cross_validation import train_test_split\n",
    "\n",
    "X_train, X_test, Y_train, Y_test = train_test_split(X, Y, test_size=0.4, random_state=42)\n"
   ]
  },
  {
   "cell_type": "code",
   "execution_count": 53,
   "metadata": {},
   "outputs": [
    {
     "name": "stdout",
     "output_type": "stream",
     "text": [
      "<class 'pandas.core.frame.DataFrame'>\n",
      "Int64Index: 1423 entries, 1862 to 860\n",
      "Columns: 801 entries, NumberOfInvestors to CityLocation_varanasi\n",
      "dtypes: int64(2), object(2), uint8(797)\n",
      "memory usage: 1.1+ MB\n"
     ]
    }
   ],
   "source": [
    "X_train.info(null_counts=True)"
   ]
  },
  {
   "cell_type": "code",
   "execution_count": 54,
   "metadata": {},
   "outputs": [
    {
     "name": "stdout",
     "output_type": "stream",
     "text": [
      "<class 'pandas.core.frame.DataFrame'>\n",
      "Int64Index: 949 entries, 834 to 721\n",
      "Columns: 801 entries, NumberOfInvestors to CityLocation_varanasi\n",
      "dtypes: int64(2), object(2), uint8(797)\n",
      "memory usage: 775.7+ KB\n"
     ]
    }
   ],
   "source": [
    "X_test.info(null_counts=True)"
   ]
  },
  {
   "cell_type": "code",
   "execution_count": 55,
   "metadata": {},
   "outputs": [
    {
     "data": {
      "text/plain": [
       "LinearSVC(C=1.0, class_weight=None, dual=True, fit_intercept=True,\n",
       "     intercept_scaling=1, loss='squared_hinge', max_iter=1000,\n",
       "     multi_class='ovr', penalty='l2', random_state=None, tol=0.0001,\n",
       "     verbose=0)"
      ]
     },
     "execution_count": 55,
     "metadata": {},
     "output_type": "execute_result"
    }
   ],
   "source": [
    "from sklearn.svm import LinearSVC\n",
    "# LinearSVC model applied with simple feature engineering \n",
    "svc_clf_1 = LinearSVC()\n",
    "svc_clf_1.fit(X_train, Y_train)"
   ]
  },
  {
   "cell_type": "code",
   "execution_count": 56,
   "metadata": {},
   "outputs": [
    {
     "data": {
      "text/plain": [
       "array([0.62947368, 0.37130802, 0.62869198])"
      ]
     },
     "execution_count": 56,
     "metadata": {},
     "output_type": "execute_result"
    }
   ],
   "source": [
    "from sklearn.model_selection import cross_val_score\n",
    "cross_val_score(svc_clf_1, X_train, Y_train, cv=3, scoring=\"accuracy\")"
   ]
  },
  {
   "cell_type": "code",
   "execution_count": 74,
   "metadata": {},
   "outputs": [],
   "source": [
    "predicted = svc_clf_1.predict(X_test)"
   ]
  },
  {
   "cell_type": "code",
   "execution_count": 75,
   "metadata": {},
   "outputs": [
    {
     "data": {
      "text/plain": [
       "0.3856691253951528"
      ]
     },
     "execution_count": 75,
     "metadata": {},
     "output_type": "execute_result"
    }
   ],
   "source": [
    "from sklearn import metrics\n",
    "metrics.accuracy_score(Y_test, predicted)"
   ]
  },
  {
   "cell_type": "code",
   "execution_count": 57,
   "metadata": {},
   "outputs": [
    {
     "data": {
      "text/plain": [
       "SVC(C=1.0, cache_size=200, class_weight=None, coef0=0.0,\n",
       "  decision_function_shape='ovr', degree=3, gamma='auto', kernel='rbf',\n",
       "  max_iter=-1, probability=False, random_state=None, shrinking=True,\n",
       "  tol=0.001, verbose=False)"
      ]
     },
     "execution_count": 57,
     "metadata": {},
     "output_type": "execute_result"
    }
   ],
   "source": [
    "from sklearn.svm import SVC\n",
    "svc_clf_2 = SVC()\n",
    "svc_clf_2.fit(X_train, Y_train)"
   ]
  },
  {
   "cell_type": "code",
   "execution_count": 58,
   "metadata": {},
   "outputs": [
    {
     "data": {
      "text/plain": [
       "array([0.94105263, 0.95147679, 0.95147679])"
      ]
     },
     "execution_count": 58,
     "metadata": {},
     "output_type": "execute_result"
    }
   ],
   "source": [
    "cross_val_score(svc_clf_2, X_train, Y_train, cv=3, scoring=\"accuracy\")"
   ]
  },
  {
   "cell_type": "markdown",
   "metadata": {},
   "source": [
    "#### Random forest classifier"
   ]
  },
  {
   "cell_type": "code",
   "execution_count": 59,
   "metadata": {},
   "outputs": [
    {
     "data": {
      "text/plain": [
       "RandomForestClassifier(bootstrap=True, class_weight=None, criterion='gini',\n",
       "            max_depth=9, max_features='auto', max_leaf_nodes=None,\n",
       "            min_impurity_decrease=0.0, min_impurity_split=None,\n",
       "            min_samples_leaf=1, min_samples_split=2,\n",
       "            min_weight_fraction_leaf=0.0, n_estimators=10, n_jobs=1,\n",
       "            oob_score=False, random_state=0, verbose=0, warm_start=False)"
      ]
     },
     "execution_count": 59,
     "metadata": {},
     "output_type": "execute_result"
    }
   ],
   "source": [
    "# random forest classifier \n",
    "from sklearn.ensemble import RandomForestClassifier\n",
    "forrest_params = dict(\n",
    "   max_depth = [n for n in range(9, 14)],\n",
    "   min_samples_split = [n for n in range(4, 11)],\n",
    "   min_samples_leaf = [n for n in range(2, 5)],\n",
    "   n_estimators = [n for n in range(10, 60, 10)],\n",
    ")\n",
    "rclf = RandomForestClassifier(n_estimators=10, max_depth=9,random_state=0)\n",
    "rclf.fit(X_train, Y_train)"
   ]
  },
  {
   "cell_type": "code",
   "execution_count": 60,
   "metadata": {},
   "outputs": [
    {
     "data": {
      "text/plain": [
       "array([0.99789474, 0.94092827, 0.89240506])"
      ]
     },
     "execution_count": 60,
     "metadata": {},
     "output_type": "execute_result"
    }
   ],
   "source": [
    "cross_val_score(rclf, X_train, Y_train, cv=3, scoring=\"accuracy\")"
   ]
  },
  {
   "cell_type": "code",
   "execution_count": 79,
   "metadata": {},
   "outputs": [],
   "source": [
    "predicted = rclf.predict(X_test)"
   ]
  },
  {
   "cell_type": "code",
   "execution_count": 80,
   "metadata": {},
   "outputs": [
    {
     "data": {
      "text/plain": [
       "0.9536354056902002"
      ]
     },
     "execution_count": 80,
     "metadata": {},
     "output_type": "execute_result"
    }
   ],
   "source": [
    "from sklearn import metrics\n",
    "metrics.accuracy_score(Y_test, predicted)"
   ]
  },
  {
   "cell_type": "markdown",
   "metadata": {},
   "source": [
    "#### Using Decission Tree"
   ]
  },
  {
   "cell_type": "code",
   "execution_count": 84,
   "metadata": {},
   "outputs": [],
   "source": [
    "from sklearn.tree import DecisionTreeClassifier"
   ]
  },
  {
   "cell_type": "code",
   "execution_count": 88,
   "metadata": {},
   "outputs": [
    {
     "data": {
      "text/plain": [
       "DecisionTreeClassifier(class_weight=None, criterion='gini', max_depth=None,\n",
       "            max_features=None, max_leaf_nodes=None,\n",
       "            min_impurity_decrease=0.0, min_impurity_split=None,\n",
       "            min_samples_leaf=1, min_samples_split=2,\n",
       "            min_weight_fraction_leaf=0.0, presort=False, random_state=None,\n",
       "            splitter='best')"
      ]
     },
     "execution_count": 88,
     "metadata": {},
     "output_type": "execute_result"
    }
   ],
   "source": [
    "dt = DecisionTreeClassifier()\n",
    "dt.fit(X_train, Y_train)"
   ]
  },
  {
   "cell_type": "code",
   "execution_count": 89,
   "metadata": {},
   "outputs": [
    {
     "data": {
      "text/plain": [
       "sklearn.model_selection._search.GridSearchCV"
      ]
     },
     "execution_count": 89,
     "metadata": {},
     "output_type": "execute_result"
    }
   ],
   "source": [
    "from sklearn.model_selection import GridSearchCV\n",
    "GridSearchCV"
   ]
  },
  {
   "cell_type": "code",
   "execution_count": 90,
   "metadata": {},
   "outputs": [],
   "source": [
    "features_small = X_train.iloc[:500]\n",
    "label_small = Y_train.iloc[:500]"
   ]
  },
  {
   "cell_type": "code",
   "execution_count": 91,
   "metadata": {},
   "outputs": [
    {
     "data": {
      "text/plain": [
       "GridSearchCV(cv=5, error_score='raise',\n",
       "       estimator=SVC(C=1.0, cache_size=200, class_weight=None, coef0=0.0,\n",
       "  decision_function_shape='ovr', degree=3, gamma='auto', kernel='rbf',\n",
       "  max_iter=-1, probability=False, random_state=None, shrinking=True,\n",
       "  tol=0.001, verbose=False),\n",
       "       fit_params=None, iid=True, n_jobs=1,\n",
       "       param_grid=[{'C': [0.001, 0.01, 0.1, 1, 5, 10], 'gamma': [0.001, 0.01, 0.1]}],\n",
       "       pre_dispatch='2*n_jobs', refit=True, return_train_score='warn',\n",
       "       scoring=None, verbose=0)"
      ]
     },
     "execution_count": 91,
     "metadata": {},
     "output_type": "execute_result"
    }
   ],
   "source": [
    "svc_params = [\n",
    "   { 'C': [0.001, 0.01, 0.1, 1, 5, 10], \n",
    "     'gamma' : [0.001, 0.01, 0.1],\n",
    "   },\n",
    "]\n",
    "clf = GridSearchCV(svc_clf_2, svc_params, cv=5)\n",
    "clf.fit(features_small, label_small)"
   ]
  },
  {
   "cell_type": "code",
   "execution_count": 92,
   "metadata": {},
   "outputs": [],
   "source": [
    "# Fine tuning hyper-parameters with GridSearchCV\n",
    "dt_params = [\n",
    "   { 'max_depth': [1, 2, 4, 8, 16, 32, 64], \n",
    "     'min_samples_leaf' : [1, 2, 3, 4, 5, 6],\n",
    "   }\n",
    "]"
   ]
  },
  {
   "cell_type": "code",
   "execution_count": 93,
   "metadata": {},
   "outputs": [
    {
     "data": {
      "text/plain": [
       "GridSearchCV(cv=4, error_score='raise',\n",
       "       estimator=DecisionTreeClassifier(class_weight=None, criterion='gini', max_depth=None,\n",
       "            max_features=None, max_leaf_nodes=None,\n",
       "            min_impurity_decrease=0.0, min_impurity_split=None,\n",
       "            min_samples_leaf=1, min_samples_split=2,\n",
       "            min_weight_fraction_leaf=0.0, presort=False, random_state=None,\n",
       "            splitter='best'),\n",
       "       fit_params=None, iid=True, n_jobs=1,\n",
       "       param_grid=[{'max_depth': [1, 2, 4, 8, 16, 32, 64], 'min_samples_leaf': [1, 2, 3, 4, 5, 6]}],\n",
       "       pre_dispatch='2*n_jobs', refit=True, return_train_score='warn',\n",
       "       scoring=None, verbose=0)"
      ]
     },
     "execution_count": 93,
     "metadata": {},
     "output_type": "execute_result"
    }
   ],
   "source": [
    "dt_cv = GridSearchCV(estimator=dt, param_grid=dt_params, cv=4)\n",
    "dt_cv.fit(X_train, Y_train)"
   ]
  },
  {
   "cell_type": "code",
   "execution_count": 94,
   "metadata": {},
   "outputs": [
    {
     "data": {
      "text/plain": [
       "array([1., 1., 1.])"
      ]
     },
     "execution_count": 94,
     "metadata": {},
     "output_type": "execute_result"
    }
   ],
   "source": [
    "cross_val_score(dt_cv, X_train, Y_train, cv=3, scoring=\"accuracy\")"
   ]
  },
  {
   "cell_type": "markdown",
   "metadata": {},
   "source": [
    "#### Ada Boost Classifier"
   ]
  },
  {
   "cell_type": "code",
   "execution_count": 70,
   "metadata": {},
   "outputs": [
    {
     "data": {
      "text/plain": [
       "AdaBoostClassifier(algorithm='SAMME.R',\n",
       "          base_estimator=DecisionTreeClassifier(class_weight=None, criterion='gini', max_depth=None,\n",
       "            max_features=None, max_leaf_nodes=None,\n",
       "            min_impurity_decrease=0.0, min_impurity_split=None,\n",
       "            min_samples_leaf=1, min_samples_split=2,\n",
       "            min_weight_fraction_leaf=0.0, presort=False, random_state=None,\n",
       "            splitter='best'),\n",
       "          learning_rate=1.0, n_estimators=50, random_state=None)"
      ]
     },
     "execution_count": 70,
     "metadata": {},
     "output_type": "execute_result"
    }
   ],
   "source": [
    "from sklearn.ensemble import AdaBoostClassifier\n",
    "bdt_clf = AdaBoostClassifier(DecisionTreeClassifier(class_weight=None, criterion='gini', max_depth=None,\n",
    "            max_features=None, max_leaf_nodes=None,\n",
    "            min_impurity_decrease=0.0, min_impurity_split=None,\n",
    "            min_samples_leaf=1, min_samples_split=2,\n",
    "            min_weight_fraction_leaf=0.0, presort=False, random_state=None,\n",
    "            splitter='best'))\n",
    "bdt_clf.fit(X_train, Y_train)"
   ]
  },
  {
   "cell_type": "code",
   "execution_count": 83,
   "metadata": {},
   "outputs": [
    {
     "data": {
      "text/plain": [
       "array([1., 1., 1.])"
      ]
     },
     "execution_count": 83,
     "metadata": {},
     "output_type": "execute_result"
    }
   ],
   "source": [
    "cross_val_score(bdt_clf, X_train, Y_train, cv=3, scoring=\"accuracy\")"
   ]
  }
 ],
 "metadata": {
  "kernelspec": {
   "display_name": "Python 3",
   "language": "python",
   "name": "python3"
  },
  "language_info": {
   "codemirror_mode": {
    "name": "ipython",
    "version": 3
   },
   "file_extension": ".py",
   "mimetype": "text/x-python",
   "name": "python",
   "nbconvert_exporter": "python",
   "pygments_lexer": "ipython3",
   "version": "3.6.5"
  }
 },
 "nbformat": 4,
 "nbformat_minor": 1
}
